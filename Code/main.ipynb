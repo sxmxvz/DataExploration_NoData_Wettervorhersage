{
 "cells": [
  {
   "cell_type": "markdown",
   "metadata": {
    "slideshow": {
     "slide_type": "slide"
    }
   },
   "source": [
    "# Wettervorhersage mithilfe von historischen Daten\n",
    "\n",
    "## von Rico Siegelin, Nils-Jannik Klink und Marvin Spurk"
   ]
  },
  {
   "cell_type": "code",
   "execution_count": 1,
   "metadata": {
    "slideshow": {
     "slide_type": "subslide"
    }
   },
   "outputs": [
    {
     "ename": "ModuleNotFoundError",
     "evalue": "No module named 'numpy'",
     "output_type": "error",
     "traceback": [
      "\u001b[1;31m---------------------------------------------------------------------------\u001b[0m",
      "\u001b[1;31mModuleNotFoundError\u001b[0m                       Traceback (most recent call last)",
      "\u001b[1;32m<ipython-input-1-61d9a28afb5a>\u001b[0m in \u001b[0;36m<module>\u001b[1;34m\u001b[0m\n\u001b[0;32m      1\u001b[0m \u001b[1;31m# Import der Bibliotheken\u001b[0m\u001b[1;33m\u001b[0m\u001b[1;33m\u001b[0m\u001b[1;33m\u001b[0m\u001b[0m\n\u001b[1;32m----> 2\u001b[1;33m \u001b[1;32mimport\u001b[0m \u001b[0mnumpy\u001b[0m \u001b[1;32mas\u001b[0m \u001b[0mnp\u001b[0m\u001b[1;33m\u001b[0m\u001b[1;33m\u001b[0m\u001b[0m\n\u001b[0m\u001b[0;32m      3\u001b[0m \u001b[1;32mimport\u001b[0m \u001b[0mpandas\u001b[0m \u001b[1;32mas\u001b[0m \u001b[0mpd\u001b[0m\u001b[1;33m\u001b[0m\u001b[1;33m\u001b[0m\u001b[0m\n\u001b[0;32m      4\u001b[0m \u001b[1;32mimport\u001b[0m \u001b[0mmatplotlib\u001b[0m\u001b[1;33m.\u001b[0m\u001b[0mpyplot\u001b[0m \u001b[1;32mas\u001b[0m \u001b[0mplt\u001b[0m\u001b[1;33m\u001b[0m\u001b[1;33m\u001b[0m\u001b[0m\n\u001b[0;32m      5\u001b[0m \u001b[1;32mimport\u001b[0m \u001b[0mseaborn\u001b[0m \u001b[1;32mas\u001b[0m \u001b[0msns\u001b[0m\u001b[1;33m\u001b[0m\u001b[1;33m\u001b[0m\u001b[0m\n",
      "\u001b[1;31mModuleNotFoundError\u001b[0m: No module named 'numpy'"
     ]
    }
   ],
   "source": [
    "# Import der Bibliotheken\n",
    "import numpy as np\n",
    "import pandas as pd\n",
    "import matplotlib.pyplot as plt\n",
    "import seaborn as sns"
   ]
  },
  {
   "cell_type": "code",
   "execution_count": null,
   "metadata": {
    "slideshow": {
     "slide_type": "fragment"
    }
   },
   "outputs": [
    {
     "data": {
      "text/html": [
       "<div>\n",
       "<style scoped>\n",
       "    .dataframe tbody tr th:only-of-type {\n",
       "        vertical-align: middle;\n",
       "    }\n",
       "\n",
       "    .dataframe tbody tr th {\n",
       "        vertical-align: top;\n",
       "    }\n",
       "\n",
       "    .dataframe thead th {\n",
       "        text-align: right;\n",
       "    }\n",
       "</style>\n",
       "<table border=\"1\" class=\"dataframe\">\n",
       "  <thead>\n",
       "    <tr style=\"text-align: right;\">\n",
       "      <th></th>\n",
       "      <th>Stationsindex</th>\n",
       "      <th>Datum</th>\n",
       "      <th>VGSL</th>\n",
       "      <th>VPGB</th>\n",
       "      <th>VPGH</th>\n",
       "      <th>TS05</th>\n",
       "      <th>TS10</th>\n",
       "      <th>TS20</th>\n",
       "      <th>TS50</th>\n",
       "      <th>TS100</th>\n",
       "      <th>...</th>\n",
       "      <th>VPGPM</th>\n",
       "      <th>VPMB</th>\n",
       "      <th>VPWB</th>\n",
       "      <th>VPZB</th>\n",
       "      <th>VGLS</th>\n",
       "      <th>VWLS</th>\n",
       "      <th>VWSL</th>\n",
       "      <th>BFWLS</th>\n",
       "      <th>BFWSL</th>\n",
       "      <th>eor</th>\n",
       "    </tr>\n",
       "  </thead>\n",
       "  <tbody>\n",
       "    <tr>\n",
       "      <th>0</th>\n",
       "      <td>5906</td>\n",
       "      <td>19910101</td>\n",
       "      <td>0.5</td>\n",
       "      <td>0.5</td>\n",
       "      <td>0.8</td>\n",
       "      <td>4.3</td>\n",
       "      <td>4.6</td>\n",
       "      <td>5.0</td>\n",
       "      <td>5.2</td>\n",
       "      <td>5.7</td>\n",
       "      <td>...</td>\n",
       "      <td>0.5</td>\n",
       "      <td>0.3</td>\n",
       "      <td>0.4</td>\n",
       "      <td>0.3</td>\n",
       "      <td>0.5</td>\n",
       "      <td>0.4</td>\n",
       "      <td>0.4</td>\n",
       "      <td>113</td>\n",
       "      <td>108</td>\n",
       "      <td>eor                                           ...</td>\n",
       "    </tr>\n",
       "    <tr>\n",
       "      <th>1</th>\n",
       "      <td>5906</td>\n",
       "      <td>19910102</td>\n",
       "      <td>0.6</td>\n",
       "      <td>0.6</td>\n",
       "      <td>0.2</td>\n",
       "      <td>4.2</td>\n",
       "      <td>4.1</td>\n",
       "      <td>4.3</td>\n",
       "      <td>5.1</td>\n",
       "      <td>5.8</td>\n",
       "      <td>...</td>\n",
       "      <td>0.7</td>\n",
       "      <td>0.4</td>\n",
       "      <td>0.5</td>\n",
       "      <td>0.4</td>\n",
       "      <td>0.6</td>\n",
       "      <td>0.5</td>\n",
       "      <td>0.5</td>\n",
       "      <td>115</td>\n",
       "      <td>109</td>\n",
       "      <td>eor                                           ...</td>\n",
       "    </tr>\n",
       "    <tr>\n",
       "      <th>2</th>\n",
       "      <td>5906</td>\n",
       "      <td>19910103</td>\n",
       "      <td>0.6</td>\n",
       "      <td>0.6</td>\n",
       "      <td>0.3</td>\n",
       "      <td>7.8</td>\n",
       "      <td>7.1</td>\n",
       "      <td>6.1</td>\n",
       "      <td>5.2</td>\n",
       "      <td>5.9</td>\n",
       "      <td>...</td>\n",
       "      <td>1.0</td>\n",
       "      <td>0.6</td>\n",
       "      <td>0.7</td>\n",
       "      <td>0.6</td>\n",
       "      <td>0.6</td>\n",
       "      <td>0.7</td>\n",
       "      <td>0.7</td>\n",
       "      <td>112</td>\n",
       "      <td>108</td>\n",
       "      <td>eor                                           ...</td>\n",
       "    </tr>\n",
       "    <tr>\n",
       "      <th>3</th>\n",
       "      <td>5906</td>\n",
       "      <td>19910104</td>\n",
       "      <td>1.0</td>\n",
       "      <td>1.0</td>\n",
       "      <td>0.7</td>\n",
       "      <td>6.6</td>\n",
       "      <td>6.7</td>\n",
       "      <td>6.6</td>\n",
       "      <td>5.7</td>\n",
       "      <td>6.0</td>\n",
       "      <td>...</td>\n",
       "      <td>0.9</td>\n",
       "      <td>0.7</td>\n",
       "      <td>0.8</td>\n",
       "      <td>0.7</td>\n",
       "      <td>1.0</td>\n",
       "      <td>0.8</td>\n",
       "      <td>0.8</td>\n",
       "      <td>110</td>\n",
       "      <td>107</td>\n",
       "      <td>eor                                           ...</td>\n",
       "    </tr>\n",
       "    <tr>\n",
       "      <th>4</th>\n",
       "      <td>5906</td>\n",
       "      <td>19910105</td>\n",
       "      <td>1.0</td>\n",
       "      <td>1.0</td>\n",
       "      <td>0.7</td>\n",
       "      <td>4.2</td>\n",
       "      <td>4.5</td>\n",
       "      <td>5.2</td>\n",
       "      <td>5.8</td>\n",
       "      <td>6.2</td>\n",
       "      <td>...</td>\n",
       "      <td>1.2</td>\n",
       "      <td>1.0</td>\n",
       "      <td>1.0</td>\n",
       "      <td>1.0</td>\n",
       "      <td>1.0</td>\n",
       "      <td>1.0</td>\n",
       "      <td>1.0</td>\n",
       "      <td>106</td>\n",
       "      <td>105</td>\n",
       "      <td>eor                                           ...</td>\n",
       "    </tr>\n",
       "  </tbody>\n",
       "</table>\n",
       "<p>5 rows × 33 columns</p>\n",
       "</div>"
      ],
      "text/plain": [
       "   Stationsindex     Datum  VGSL  VPGB  VPGH  TS05  TS10  TS20  TS50  TS100  \\\n",
       "0           5906  19910101   0.5   0.5   0.8   4.3   4.6   5.0   5.2    5.7   \n",
       "1           5906  19910102   0.6   0.6   0.2   4.2   4.1   4.3   5.1    5.8   \n",
       "2           5906  19910103   0.6   0.6   0.3   7.8   7.1   6.1   5.2    5.9   \n",
       "3           5906  19910104   1.0   1.0   0.7   6.6   6.7   6.6   5.7    6.0   \n",
       "4           5906  19910105   1.0   1.0   0.7   4.2   4.5   5.2   5.8    6.2   \n",
       "\n",
       "   ...  VPGPM  VPMB  VPWB  VPZB  VGLS  VWLS  VWSL  BFWLS  BFWSL  \\\n",
       "0  ...    0.5   0.3   0.4   0.3   0.5   0.4   0.4    113    108   \n",
       "1  ...    0.7   0.4   0.5   0.4   0.6   0.5   0.5    115    109   \n",
       "2  ...    1.0   0.6   0.7   0.6   0.6   0.7   0.7    112    108   \n",
       "3  ...    0.9   0.7   0.8   0.7   1.0   0.8   0.8    110    107   \n",
       "4  ...    1.2   1.0   1.0   1.0   1.0   1.0   1.0    106    105   \n",
       "\n",
       "                                                 eor  \n",
       "0  eor                                           ...  \n",
       "1  eor                                           ...  \n",
       "2  eor                                           ...  \n",
       "3  eor                                           ...  \n",
       "4  eor                                           ...  \n",
       "\n",
       "[5 rows x 33 columns]"
      ]
     },
     "execution_count": 14,
     "metadata": {},
     "output_type": "execute_result"
    }
   ],
   "source": [
    "# Durchschnitt der Temperatur in einem Jahr von jedem Deutschen Bundesland von 1881 bis 2019\n",
    "data_his = pd.read_csv(\"derived_germany__soil__daily__historical__5906.txt\", sep=\";\")\n",
    "data_his.head(5)"
   ]
  },
  {
   "cell_type": "code",
   "execution_count": null,
   "metadata": {
    "slideshow": {
     "slide_type": "fragment"
    }
   },
   "outputs": [
    {
     "data": {
      "text/html": [
       "<div>\n",
       "<style scoped>\n",
       "    .dataframe tbody tr th:only-of-type {\n",
       "        vertical-align: middle;\n",
       "    }\n",
       "\n",
       "    .dataframe tbody tr th {\n",
       "        vertical-align: top;\n",
       "    }\n",
       "\n",
       "    .dataframe thead th {\n",
       "        text-align: right;\n",
       "    }\n",
       "</style>\n",
       "<table border=\"1\" class=\"dataframe\">\n",
       "  <thead>\n",
       "    <tr style=\"text-align: right;\">\n",
       "      <th></th>\n",
       "      <th>Stationsindex</th>\n",
       "      <th>Datum</th>\n",
       "      <th>VGSL</th>\n",
       "      <th>VPGB</th>\n",
       "      <th>VPGH</th>\n",
       "      <th>TS05</th>\n",
       "      <th>TS10</th>\n",
       "      <th>TS20</th>\n",
       "      <th>TS50</th>\n",
       "      <th>TS100</th>\n",
       "      <th>...</th>\n",
       "      <th>VPGPM</th>\n",
       "      <th>VPMB</th>\n",
       "      <th>VPWB</th>\n",
       "      <th>VPZB</th>\n",
       "      <th>VGLS</th>\n",
       "      <th>VWLS</th>\n",
       "      <th>VWSL</th>\n",
       "      <th>BFWLS</th>\n",
       "      <th>BFWSL</th>\n",
       "      <th>eor</th>\n",
       "    </tr>\n",
       "  </thead>\n",
       "  <tbody>\n",
       "    <tr>\n",
       "      <th>0</th>\n",
       "      <td>5906</td>\n",
       "      <td>20220101</td>\n",
       "      <td>0.4</td>\n",
       "      <td>0.4</td>\n",
       "      <td>0.7</td>\n",
       "      <td>9.3</td>\n",
       "      <td>9.2</td>\n",
       "      <td>8.9</td>\n",
       "      <td>7.8</td>\n",
       "      <td>7.4</td>\n",
       "      <td>...</td>\n",
       "      <td>0.3</td>\n",
       "      <td>0.4</td>\n",
       "      <td>0.4</td>\n",
       "      <td>0.4</td>\n",
       "      <td>0.4</td>\n",
       "      <td>0.4</td>\n",
       "      <td>0.4</td>\n",
       "      <td>109</td>\n",
       "      <td>106</td>\n",
       "      <td>eor                                           ...</td>\n",
       "    </tr>\n",
       "    <tr>\n",
       "      <th>1</th>\n",
       "      <td>5906</td>\n",
       "      <td>20220102</td>\n",
       "      <td>0.7</td>\n",
       "      <td>0.7</td>\n",
       "      <td>0.8</td>\n",
       "      <td>8.0</td>\n",
       "      <td>8.0</td>\n",
       "      <td>8.1</td>\n",
       "      <td>7.9</td>\n",
       "      <td>7.6</td>\n",
       "      <td>...</td>\n",
       "      <td>0.9</td>\n",
       "      <td>0.7</td>\n",
       "      <td>0.8</td>\n",
       "      <td>0.7</td>\n",
       "      <td>0.7</td>\n",
       "      <td>0.7</td>\n",
       "      <td>0.8</td>\n",
       "      <td>106</td>\n",
       "      <td>104</td>\n",
       "      <td>eor                                           ...</td>\n",
       "    </tr>\n",
       "    <tr>\n",
       "      <th>2</th>\n",
       "      <td>5906</td>\n",
       "      <td>20220103</td>\n",
       "      <td>1.1</td>\n",
       "      <td>1.1</td>\n",
       "      <td>0.9</td>\n",
       "      <td>8.6</td>\n",
       "      <td>8.5</td>\n",
       "      <td>8.3</td>\n",
       "      <td>7.9</td>\n",
       "      <td>7.8</td>\n",
       "      <td>...</td>\n",
       "      <td>1.0</td>\n",
       "      <td>0.8</td>\n",
       "      <td>1.0</td>\n",
       "      <td>0.8</td>\n",
       "      <td>1.1</td>\n",
       "      <td>1.0</td>\n",
       "      <td>1.0</td>\n",
       "      <td>113</td>\n",
       "      <td>108</td>\n",
       "      <td>eor                                           ...</td>\n",
       "    </tr>\n",
       "    <tr>\n",
       "      <th>3</th>\n",
       "      <td>5906</td>\n",
       "      <td>20220104</td>\n",
       "      <td>0.3</td>\n",
       "      <td>0.3</td>\n",
       "      <td>0.1</td>\n",
       "      <td>7.9</td>\n",
       "      <td>8.1</td>\n",
       "      <td>8.3</td>\n",
       "      <td>8.1</td>\n",
       "      <td>8.0</td>\n",
       "      <td>...</td>\n",
       "      <td>0.5</td>\n",
       "      <td>0.2</td>\n",
       "      <td>0.3</td>\n",
       "      <td>0.2</td>\n",
       "      <td>0.3</td>\n",
       "      <td>0.3</td>\n",
       "      <td>0.3</td>\n",
       "      <td>136</td>\n",
       "      <td>119</td>\n",
       "      <td>eor                                           ...</td>\n",
       "    </tr>\n",
       "    <tr>\n",
       "      <th>4</th>\n",
       "      <td>5906</td>\n",
       "      <td>20220105</td>\n",
       "      <td>1.0</td>\n",
       "      <td>1.0</td>\n",
       "      <td>0.6</td>\n",
       "      <td>4.6</td>\n",
       "      <td>5.4</td>\n",
       "      <td>6.6</td>\n",
       "      <td>7.9</td>\n",
       "      <td>8.1</td>\n",
       "      <td>...</td>\n",
       "      <td>0.8</td>\n",
       "      <td>0.7</td>\n",
       "      <td>0.8</td>\n",
       "      <td>0.7</td>\n",
       "      <td>1.0</td>\n",
       "      <td>0.8</td>\n",
       "      <td>0.8</td>\n",
       "      <td>131</td>\n",
       "      <td>116</td>\n",
       "      <td>eor                                           ...</td>\n",
       "    </tr>\n",
       "  </tbody>\n",
       "</table>\n",
       "<p>5 rows × 33 columns</p>\n",
       "</div>"
      ],
      "text/plain": [
       "   Stationsindex     Datum  VGSL  VPGB  VPGH  TS05  TS10  TS20  TS50  TS100  \\\n",
       "0           5906  20220101   0.4   0.4   0.7   9.3   9.2   8.9   7.8    7.4   \n",
       "1           5906  20220102   0.7   0.7   0.8   8.0   8.0   8.1   7.9    7.6   \n",
       "2           5906  20220103   1.1   1.1   0.9   8.6   8.5   8.3   7.9    7.8   \n",
       "3           5906  20220104   0.3   0.3   0.1   7.9   8.1   8.3   8.1    8.0   \n",
       "4           5906  20220105   1.0   1.0   0.6   4.6   5.4   6.6   7.9    8.1   \n",
       "\n",
       "   ...  VPGPM  VPMB  VPWB  VPZB  VGLS  VWLS  VWSL  BFWLS  BFWSL  \\\n",
       "0  ...    0.3   0.4   0.4   0.4   0.4   0.4   0.4    109    106   \n",
       "1  ...    0.9   0.7   0.8   0.7   0.7   0.7   0.8    106    104   \n",
       "2  ...    1.0   0.8   1.0   0.8   1.1   1.0   1.0    113    108   \n",
       "3  ...    0.5   0.2   0.3   0.2   0.3   0.3   0.3    136    119   \n",
       "4  ...    0.8   0.7   0.8   0.7   1.0   0.8   0.8    131    116   \n",
       "\n",
       "                                                 eor  \n",
       "0  eor                                           ...  \n",
       "1  eor                                           ...  \n",
       "2  eor                                           ...  \n",
       "3  eor                                           ...  \n",
       "4  eor                                           ...  \n",
       "\n",
       "[5 rows x 33 columns]"
      ]
     },
     "execution_count": 13,
     "metadata": {},
     "output_type": "execute_result"
    }
   ],
   "source": [
    "# Durchschnitt der Temperatur in einem Jahr von jedem Deutschen Bundesland von 1881 bis 2019\n",
    "data_rec = pd.read_csv(\"derived_germany__soil__daily__recent__5906.txt\", sep=\";\")\n",
    "data_rec.head(5)"
   ]
  },
  {
   "cell_type": "code",
   "execution_count": null,
   "metadata": {},
   "outputs": [
    {
     "ename": "TclError",
     "evalue": "image \"pyimage2\" doesn't exist",
     "output_type": "error",
     "traceback": [
      "\u001b[1;31m---------------------------------------------------------------------------\u001b[0m",
      "\u001b[1;31mTclError\u001b[0m                                  Traceback (most recent call last)",
      "\u001b[1;32m<ipython-input-17-94423ac2132c>\u001b[0m in \u001b[0;36m<module>\u001b[1;34m\u001b[0m\n\u001b[0;32m     12\u001b[0m \u001b[1;33m\u001b[0m\u001b[0m\n\u001b[0;32m     13\u001b[0m \u001b[0mnew\u001b[0m \u001b[1;33m=\u001b[0m \u001b[0mImageTk\u001b[0m\u001b[1;33m.\u001b[0m\u001b[0mPhotoImage\u001b[0m\u001b[1;33m(\u001b[0m\u001b[0mImage\u001b[0m\u001b[1;33m.\u001b[0m\u001b[0mopen\u001b[0m\u001b[1;33m(\u001b[0m\u001b[1;34m'logo.png'\u001b[0m\u001b[1;33m)\u001b[0m\u001b[1;33m)\u001b[0m\u001b[1;33m\u001b[0m\u001b[1;33m\u001b[0m\u001b[0m\n\u001b[1;32m---> 14\u001b[1;33m \u001b[0mpanel\u001b[0m \u001b[1;33m=\u001b[0m \u001b[0mLabel\u001b[0m\u001b[1;33m(\u001b[0m\u001b[0mroot\u001b[0m\u001b[1;33m,\u001b[0m \u001b[0mimage\u001b[0m\u001b[1;33m=\u001b[0m\u001b[0mnew\u001b[0m\u001b[1;33m)\u001b[0m\u001b[1;33m\u001b[0m\u001b[1;33m\u001b[0m\u001b[0m\n\u001b[0m\u001b[0;32m     15\u001b[0m \u001b[0mpanel\u001b[0m\u001b[1;33m.\u001b[0m\u001b[0mplace\u001b[0m\u001b[1;33m(\u001b[0m\u001b[0mx\u001b[0m\u001b[1;33m=\u001b[0m\u001b[1;36m0\u001b[0m\u001b[1;33m,\u001b[0m \u001b[0my\u001b[0m\u001b[1;33m=\u001b[0m\u001b[1;36m520\u001b[0m\u001b[1;33m)\u001b[0m\u001b[1;33m\u001b[0m\u001b[1;33m\u001b[0m\u001b[0m\n\u001b[0;32m     16\u001b[0m \u001b[1;33m\u001b[0m\u001b[0m\n",
      "\u001b[1;32mc:\\ProgramData\\Anaconda3\\lib\\tkinter\\__init__.py\u001b[0m in \u001b[0;36m__init__\u001b[1;34m(self, master, cnf, **kw)\u001b[0m\n\u001b[0;32m   3141\u001b[0m \u001b[1;33m\u001b[0m\u001b[0m\n\u001b[0;32m   3142\u001b[0m         \"\"\"\n\u001b[1;32m-> 3143\u001b[1;33m         \u001b[0mWidget\u001b[0m\u001b[1;33m.\u001b[0m\u001b[0m__init__\u001b[0m\u001b[1;33m(\u001b[0m\u001b[0mself\u001b[0m\u001b[1;33m,\u001b[0m \u001b[0mmaster\u001b[0m\u001b[1;33m,\u001b[0m \u001b[1;34m'label'\u001b[0m\u001b[1;33m,\u001b[0m \u001b[0mcnf\u001b[0m\u001b[1;33m,\u001b[0m \u001b[0mkw\u001b[0m\u001b[1;33m)\u001b[0m\u001b[1;33m\u001b[0m\u001b[1;33m\u001b[0m\u001b[0m\n\u001b[0m\u001b[0;32m   3144\u001b[0m \u001b[1;33m\u001b[0m\u001b[0m\n\u001b[0;32m   3145\u001b[0m \u001b[1;33m\u001b[0m\u001b[0m\n",
      "\u001b[1;32mc:\\ProgramData\\Anaconda3\\lib\\tkinter\\__init__.py\u001b[0m in \u001b[0;36m__init__\u001b[1;34m(self, master, widgetName, cnf, kw, extra)\u001b[0m\n\u001b[0;32m   2565\u001b[0m         \u001b[1;32mfor\u001b[0m \u001b[0mk\u001b[0m\u001b[1;33m,\u001b[0m \u001b[0mv\u001b[0m \u001b[1;32min\u001b[0m \u001b[0mclasses\u001b[0m\u001b[1;33m:\u001b[0m\u001b[1;33m\u001b[0m\u001b[1;33m\u001b[0m\u001b[0m\n\u001b[0;32m   2566\u001b[0m             \u001b[1;32mdel\u001b[0m \u001b[0mcnf\u001b[0m\u001b[1;33m[\u001b[0m\u001b[0mk\u001b[0m\u001b[1;33m]\u001b[0m\u001b[1;33m\u001b[0m\u001b[1;33m\u001b[0m\u001b[0m\n\u001b[1;32m-> 2567\u001b[1;33m         self.tk.call(\n\u001b[0m\u001b[0;32m   2568\u001b[0m             (widgetName, self._w) + extra + self._options(cnf))\n\u001b[0;32m   2569\u001b[0m         \u001b[1;32mfor\u001b[0m \u001b[0mk\u001b[0m\u001b[1;33m,\u001b[0m \u001b[0mv\u001b[0m \u001b[1;32min\u001b[0m \u001b[0mclasses\u001b[0m\u001b[1;33m:\u001b[0m\u001b[1;33m\u001b[0m\u001b[1;33m\u001b[0m\u001b[0m\n",
      "\u001b[1;31mTclError\u001b[0m: image \"pyimage2\" doesn't exist"
     ]
    }
   ],
   "source": [
    "from tkinter import *\n",
    "import requests \n",
    "import json \n",
    "import datetime \n",
    "from PIL import ImageTk, Image \n",
    "  \n",
    "  \n",
    "root = Tk() \n",
    "root.title(\"Weather App\") \n",
    "root.geometry(\"450x700\") \n",
    "root['background'] = \"white\"\n",
    "  \n",
    "new = ImageTk.PhotoImage(Image.open('logo.png')) \n",
    "panel = Label(root, image=new) \n",
    "panel.place(x=0, y=520) \n",
    "  \n",
    "  \n",
    "dt = datetime.datetime.now() \n",
    "date = Label(root, text=dt.strftime('%A--'), bg='white', font=(\"bold\", 15)) \n",
    "date.place(x=5, y=130) \n",
    "month = Label(root, text=dt.strftime('%m %B'), bg='white', font=(\"bold\", 15)) \n",
    "month.place(x=100, y=130) \n",
    "  \n",
    "hour = Label(root, text=dt.strftime('%I : %M %p'), \n",
    "             bg='white', font=(\"bold\", 15)) \n",
    "hour.place(x=10, y=160) \n",
    "  \n",
    "if int((dt.strftime('%I'))) >= 8 & int((dt.strftime('%I'))) <= 5: \n",
    "    img = ImageTk.PhotoImage(Image.open('moon.png')) \n",
    "    panel = Label(root, image=img) \n",
    "    panel.place(x=210, y=200) \n",
    "else: \n",
    "    img = ImageTk.PhotoImage(Image.open('sun.png')) \n",
    "    panel = Label(root, image=img) \n",
    "    panel.place(x=210, y=200) \n",
    "  \n",
    "  \n",
    "city_name = StringVar() \n",
    "city_entry = Entry(root, textvariable=city_name, width=45) \n",
    "city_entry.grid(row=1, column=0, ipady=10, stick=W+E+N+S) \n",
    "  \n",
    "  \n",
    "def city_name(): \n",
    "  \n",
    "    \n",
    "    api_request = requests.get(\"https://api.openweathermap.org/data/2.5/weather?q=\"\n",
    "                               + city_entry.get() + \"&units=metric&appid=\"+api_key) \n",
    "  \n",
    "    api = json.loads(api_request.content) \n",
    "  \n",
    "    \n",
    "    y = api['main'] \n",
    "    current_temprature = y['temp'] \n",
    "    humidity = y['humidity'] \n",
    "    tempmin = y['temp_min'] \n",
    "    tempmax = y['temp_max'] \n",
    "  \n",
    "    \n",
    "    x = api['coord'] \n",
    "    longtitude = x['lon'] \n",
    "    latitude = x['lat'] \n",
    "  \n",
    "    \n",
    "    z = api['sys'] \n",
    "    country = z['country'] \n",
    "    citi = api['name'] \n",
    "  \n",
    "    \n",
    "    lable_temp.configure(text=current_temprature) \n",
    "    lable_humidity.configure(text=humidity) \n",
    "    max_temp.configure(text=tempmax) \n",
    "    min_temp.configure(text=tempmin) \n",
    "    lable_lon.configure(text=longtitude) \n",
    "    lable_lat.configure(text=latitude) \n",
    "    lable_country.configure(text=country) \n",
    "    lable_citi.configure(text=citi) \n",
    "  \n",
    "  \n",
    "city_nameButton = Button(root, text=\"Search\", command=city_name) \n",
    "city_nameButton.grid(row=1, column=1, padx=5, stick=W+E+N+S) \n",
    "  \n",
    "  \n",
    "lable_citi = Label(root, text=\"...\", width=0,  \n",
    "                   bg='white', font=(\"bold\", 15)) \n",
    "lable_citi.place(x=10, y=63) \n",
    "  \n",
    "lable_country = Label(root, text=\"...\", width=0,  \n",
    "                      bg='white', font=(\"bold\", 15)) \n",
    "lable_country.place(x=135, y=63) \n",
    "  \n",
    "lable_lon = Label(root, text=\"...\", width=0, \n",
    "                  bg='white', font=(\"Helvetica\", 15)) \n",
    "lable_lon.place(x=25, y=95) \n",
    "lable_lat = Label(root, text=\"...\", width=0, \n",
    "                  bg='white', font=(\"Helvetica\", 15)) \n",
    "lable_lat.place(x=95, y=95) \n",
    "  \n",
    "  \n",
    "lable_temp = Label(root, text=\"...\", width=0, bg='white', \n",
    "                   font=(\"Helvetica\", 110), fg='black') \n",
    "lable_temp.place(x=18, y=220) \n",
    "  \n",
    "  \n",
    "humi = Label(root, text=\"Humidity: \", width=0,  \n",
    "             bg='white', font=(\"bold\", 15)) \n",
    "humi.place(x=3, y=400) \n",
    "  \n",
    "lable_humidity = Label(root, text=\"...\", width=0, \n",
    "                       bg='white', font=(\"bold\", 15)) \n",
    "lable_humidity.place(x=107, y=400) \n",
    "  \n",
    "  \n",
    "maxi = Label(root, text=\"Max. Temp.: \", width=0,  \n",
    "             bg='white', font=(\"bold\", 15)) \n",
    "maxi.place(x=3, y=430) \n",
    "  \n",
    "max_temp = Label(root, text=\"...\", width=0,  \n",
    "                 bg='white', font=(\"bold\", 15)) \n",
    "max_temp.place(x=128, y=430) \n",
    "  \n",
    "  \n",
    "mini = Label(root, text=\"Min. Temp.: \", width=0,  \n",
    "             bg='white', font=(\"bold\", 15)) \n",
    "mini.place(x=3, y=460) \n",
    "  \n",
    "min_temp = Label(root, text=\"...\", width=0,  \n",
    "                 bg='white', font=(\"bold\", 15)) \n",
    "min_temp.place(x=128, y=460) \n",
    "  \n",
    "  \n",
    "note = Label(root, text=\"All temperatures in degree celsius\", \n",
    "             bg='white', font=(\"italic\", 10)) \n",
    "note.place(x=95, y=495) \n",
    "  \n",
    "  \n",
    "root.mainloop() "
   ]
  },
  {
   "cell_type": "code",
   "execution_count": null,
   "metadata": {
    "scrolled": true,
    "slideshow": {
     "slide_type": "slide"
    }
   },
   "outputs": [
    {
     "ename": "KeyError",
     "evalue": "\"None of [Index(['Jahr', 'Bayern'], dtype='object')] are in the [columns]\"",
     "output_type": "error",
     "traceback": [
      "\u001b[1;31m---------------------------------------------------------------------------\u001b[0m",
      "\u001b[1;31mKeyError\u001b[0m                                  Traceback (most recent call last)",
      "\u001b[1;32m<ipython-input-12-0eb314675513>\u001b[0m in \u001b[0;36m<module>\u001b[1;34m\u001b[0m\n\u001b[0;32m      1\u001b[0m \u001b[1;31m# Nur Bayern\u001b[0m\u001b[1;33m\u001b[0m\u001b[1;33m\u001b[0m\u001b[1;33m\u001b[0m\u001b[0m\n\u001b[1;32m----> 2\u001b[1;33m \u001b[0mair_df_by\u001b[0m \u001b[1;33m=\u001b[0m \u001b[0mair_df\u001b[0m\u001b[1;33m[\u001b[0m\u001b[1;33m[\u001b[0m\u001b[1;34m\"Jahr\"\u001b[0m\u001b[1;33m,\u001b[0m \u001b[1;34m\"Bayern\"\u001b[0m\u001b[1;33m]\u001b[0m\u001b[1;33m]\u001b[0m\u001b[1;33m\u001b[0m\u001b[1;33m\u001b[0m\u001b[0m\n\u001b[0m\u001b[0;32m      3\u001b[0m \u001b[0mair_df_by\u001b[0m\u001b[1;33m\u001b[0m\u001b[1;33m\u001b[0m\u001b[0m\n",
      "\u001b[1;32mc:\\ProgramData\\Anaconda3\\lib\\site-packages\\pandas\\core\\frame.py\u001b[0m in \u001b[0;36m__getitem__\u001b[1;34m(self, key)\u001b[0m\n\u001b[0;32m   2804\u001b[0m             \u001b[1;32mif\u001b[0m \u001b[0mis_iterator\u001b[0m\u001b[1;33m(\u001b[0m\u001b[0mkey\u001b[0m\u001b[1;33m)\u001b[0m\u001b[1;33m:\u001b[0m\u001b[1;33m\u001b[0m\u001b[1;33m\u001b[0m\u001b[0m\n\u001b[0;32m   2805\u001b[0m                 \u001b[0mkey\u001b[0m \u001b[1;33m=\u001b[0m \u001b[0mlist\u001b[0m\u001b[1;33m(\u001b[0m\u001b[0mkey\u001b[0m\u001b[1;33m)\u001b[0m\u001b[1;33m\u001b[0m\u001b[1;33m\u001b[0m\u001b[0m\n\u001b[1;32m-> 2806\u001b[1;33m             \u001b[0mindexer\u001b[0m \u001b[1;33m=\u001b[0m \u001b[0mself\u001b[0m\u001b[1;33m.\u001b[0m\u001b[0mloc\u001b[0m\u001b[1;33m.\u001b[0m\u001b[0m_get_listlike_indexer\u001b[0m\u001b[1;33m(\u001b[0m\u001b[0mkey\u001b[0m\u001b[1;33m,\u001b[0m \u001b[0maxis\u001b[0m\u001b[1;33m=\u001b[0m\u001b[1;36m1\u001b[0m\u001b[1;33m,\u001b[0m \u001b[0mraise_missing\u001b[0m\u001b[1;33m=\u001b[0m\u001b[1;32mTrue\u001b[0m\u001b[1;33m)\u001b[0m\u001b[1;33m[\u001b[0m\u001b[1;36m1\u001b[0m\u001b[1;33m]\u001b[0m\u001b[1;33m\u001b[0m\u001b[1;33m\u001b[0m\u001b[0m\n\u001b[0m\u001b[0;32m   2807\u001b[0m \u001b[1;33m\u001b[0m\u001b[0m\n\u001b[0;32m   2808\u001b[0m         \u001b[1;31m# take() does not accept boolean indexers\u001b[0m\u001b[1;33m\u001b[0m\u001b[1;33m\u001b[0m\u001b[1;33m\u001b[0m\u001b[0m\n",
      "\u001b[1;32mc:\\ProgramData\\Anaconda3\\lib\\site-packages\\pandas\\core\\indexing.py\u001b[0m in \u001b[0;36m_get_listlike_indexer\u001b[1;34m(self, key, axis, raise_missing)\u001b[0m\n\u001b[0;32m   1550\u001b[0m             \u001b[0mkeyarr\u001b[0m\u001b[1;33m,\u001b[0m \u001b[0mindexer\u001b[0m\u001b[1;33m,\u001b[0m \u001b[0mnew_indexer\u001b[0m \u001b[1;33m=\u001b[0m \u001b[0max\u001b[0m\u001b[1;33m.\u001b[0m\u001b[0m_reindex_non_unique\u001b[0m\u001b[1;33m(\u001b[0m\u001b[0mkeyarr\u001b[0m\u001b[1;33m)\u001b[0m\u001b[1;33m\u001b[0m\u001b[1;33m\u001b[0m\u001b[0m\n\u001b[0;32m   1551\u001b[0m \u001b[1;33m\u001b[0m\u001b[0m\n\u001b[1;32m-> 1552\u001b[1;33m         self._validate_read_indexer(\n\u001b[0m\u001b[0;32m   1553\u001b[0m             \u001b[0mkeyarr\u001b[0m\u001b[1;33m,\u001b[0m \u001b[0mindexer\u001b[0m\u001b[1;33m,\u001b[0m \u001b[0mo\u001b[0m\u001b[1;33m.\u001b[0m\u001b[0m_get_axis_number\u001b[0m\u001b[1;33m(\u001b[0m\u001b[0maxis\u001b[0m\u001b[1;33m)\u001b[0m\u001b[1;33m,\u001b[0m \u001b[0mraise_missing\u001b[0m\u001b[1;33m=\u001b[0m\u001b[0mraise_missing\u001b[0m\u001b[1;33m\u001b[0m\u001b[1;33m\u001b[0m\u001b[0m\n\u001b[0;32m   1554\u001b[0m         )\n",
      "\u001b[1;32mc:\\ProgramData\\Anaconda3\\lib\\site-packages\\pandas\\core\\indexing.py\u001b[0m in \u001b[0;36m_validate_read_indexer\u001b[1;34m(self, key, indexer, axis, raise_missing)\u001b[0m\n\u001b[0;32m   1638\u001b[0m             \u001b[1;32mif\u001b[0m \u001b[0mmissing\u001b[0m \u001b[1;33m==\u001b[0m \u001b[0mlen\u001b[0m\u001b[1;33m(\u001b[0m\u001b[0mindexer\u001b[0m\u001b[1;33m)\u001b[0m\u001b[1;33m:\u001b[0m\u001b[1;33m\u001b[0m\u001b[1;33m\u001b[0m\u001b[0m\n\u001b[0;32m   1639\u001b[0m                 \u001b[0maxis_name\u001b[0m \u001b[1;33m=\u001b[0m \u001b[0mself\u001b[0m\u001b[1;33m.\u001b[0m\u001b[0mobj\u001b[0m\u001b[1;33m.\u001b[0m\u001b[0m_get_axis_name\u001b[0m\u001b[1;33m(\u001b[0m\u001b[0maxis\u001b[0m\u001b[1;33m)\u001b[0m\u001b[1;33m\u001b[0m\u001b[1;33m\u001b[0m\u001b[0m\n\u001b[1;32m-> 1640\u001b[1;33m                 \u001b[1;32mraise\u001b[0m \u001b[0mKeyError\u001b[0m\u001b[1;33m(\u001b[0m\u001b[1;34mf\"None of [{key}] are in the [{axis_name}]\"\u001b[0m\u001b[1;33m)\u001b[0m\u001b[1;33m\u001b[0m\u001b[1;33m\u001b[0m\u001b[0m\n\u001b[0m\u001b[0;32m   1641\u001b[0m \u001b[1;33m\u001b[0m\u001b[0m\n\u001b[0;32m   1642\u001b[0m             \u001b[1;31m# We (temporarily) allow for some missing keys with .loc, except in\u001b[0m\u001b[1;33m\u001b[0m\u001b[1;33m\u001b[0m\u001b[1;33m\u001b[0m\u001b[0m\n",
      "\u001b[1;31mKeyError\u001b[0m: \"None of [Index(['Jahr', 'Bayern'], dtype='object')] are in the [columns]\""
     ]
    }
   ],
   "source": [
    "# Nur Bayern\n",
    "air_df_by = air_df[[\"Jahr\", \"Bayern\"]]\n",
    "air_df_by"
   ]
  },
  {
   "cell_type": "code",
   "execution_count": null,
   "metadata": {
    "scrolled": true,
    "slideshow": {
     "slide_type": "slide"
    }
   },
   "outputs": [],
   "source": [
    "# Temperatur von Bayern graphisch darstellen\n",
    "fig, ax = plt.subplots()\n",
    "fig.set_size_inches(12, 5) # Breite und Höhe\n",
    "ax.set_title(\"Temperatur Bayern\", fontsize=20)\n",
    "\n",
    "sns.lineplot(data=air_df_by, x=\"Jahr\", y=\"Bayern\", color=\"r\")\n",
    "\n",
    "fig.savefig('pictures/temp_bayern.png')\n",
    "plt.close()"
   ]
  },
  {
   "cell_type": "markdown",
   "metadata": {
    "slideshow": {
     "slide_type": "slide"
    }
   },
   "source": [
    "<center> <img src='pictures/temp_bayern.png'> </center>"
   ]
  },
  {
   "cell_type": "markdown",
   "metadata": {
    "slideshow": {
     "slide_type": "fragment"
    }
   },
   "source": [
    "Es sind noch eine Menge von Spitzen da.\n",
    "Lass sie uns runder machen zur besseren Anschauung."
   ]
  },
  {
   "cell_type": "code",
   "execution_count": null,
   "metadata": {
    "scrolled": false,
    "slideshow": {
     "slide_type": "slide"
    }
   },
   "outputs": [],
   "source": [
    "# Temperatur von Bayern geglättet graphisch darstellen\n",
    "air_df_by_2 = air_df_by.rolling(window=10,min_periods=1).mean()\n",
    "fig, ax = plt.subplots()\n",
    "fig.set_size_inches(12, 5)\n",
    "\n",
    "# Änder der Schriftgröße von den Beschriftungen\n",
    "ax.set_title(\"Geklättete Temperatur von Bayern\", fontsize=20)\n",
    "font1 = {'size':14}\n",
    "\n",
    "ax.plot(air_df[\"Jahr\"], air_df_by_2[\"Bayern\"], color=\"r\", label=\"temperatur\") \n",
    "ax.set_xlabel(\"Jahr\", fontdict = font1)\n",
    "ax.set_ylabel(\"Temperatur in Celcius\", fontdict = font1)\n",
    "\n",
    "fig.savefig('pictures/temp_bayern_smooth.png')\n",
    "plt.close()"
   ]
  },
  {
   "cell_type": "markdown",
   "metadata": {
    "slideshow": {
     "slide_type": "slide"
    }
   },
   "source": [
    "<center> <img src='pictures/temp_bayern_smooth.png'> </center>"
   ]
  },
  {
   "cell_type": "code",
   "execution_count": null,
   "metadata": {
    "scrolled": false,
    "slideshow": {
     "slide_type": "slide"
    }
   },
   "outputs": [],
   "source": [
    "# Temperatur von Bayern vs Deutschland geglättet graphisch darstellen\n",
    "air_df_ger = air_df[[\"Jahr\", \"Deutschland\"]] # Nur Deutschland\n",
    "\n",
    "#Graphen glätten\n",
    "air_df_by_2 = air_df_by.rolling(window=10,min_periods=1).mean()\n",
    "air_df_ger_2 = air_df_ger.rolling(window=10,min_periods=1).mean()\n",
    "\n",
    "# Graphgrößefestlegen\n",
    "fig, ax = plt.subplots()\n",
    "fig.set_size_inches(12, 5)\n",
    "\n",
    "# Änder der Schriftgröße von den Beschriftungen\n",
    "ax.set_title(\"Temperatur Bayern vs. Deutschland\", fontsize=20)\n",
    "font1 = {'size':14}\n",
    "\n",
    "# Erster Graph zur Darstellung der Temperatur von Bayern über die Zeit\n",
    "ax.plot(air_df[\"Jahr\"], air_df_by_2[\"Bayern\"], color=\"r\", label=\"Bayern\")\n",
    "ax.plot(air_df[\"Jahr\"], air_df_ger_2[\"Deutschland\"], color=\"#bd550b\",label=\"Deutschland\")\n",
    "ax.set_xlabel(\"Jahr\", fontdict = font1)\n",
    "ax.set_ylabel(\"Temperatur in Celcius\",  fontdict = font1)\n",
    "\n",
    "ax.legend()\n",
    "fig.savefig('pictures/temp_bayern_de.png')\n",
    "plt.close()"
   ]
  },
  {
   "cell_type": "markdown",
   "metadata": {
    "slideshow": {
     "slide_type": "slide"
    }
   },
   "source": [
    "<center> <img src='pictures/temp_bayern_de.png'> </center>"
   ]
  },
  {
   "cell_type": "markdown",
   "metadata": {
    "slideshow": {
     "slide_type": "slide"
    }
   },
   "source": [
    "### Lesen die den Hektar-Verlauf (data/blaueisHa.xlsx ) ein"
   ]
  },
  {
   "cell_type": "code",
   "execution_count": null,
   "metadata": {
    "scrolled": true,
    "slideshow": {
     "slide_type": "fragment"
    }
   },
   "outputs": [],
   "source": [
    "# Fläche des Gletschers von 1889 bis 2014\n",
    "eis_df = pd.read_csv(\"data/blaueisHa.csv\", sep=\";\")\n",
    "eis_df"
   ]
  },
  {
   "cell_type": "code",
   "execution_count": null,
   "metadata": {
    "slideshow": {
     "slide_type": "slide"
    }
   },
   "outputs": [],
   "source": [
    "# Komma durch Punkt ersetzen\n",
    "eis_df[\"Flaeche in ha\"] = eis_df[\"Flaeche in ha\"].apply(lambda x: x.replace(',','.'))\n",
    "# Verändere den Datentyp vom Typ \"Objekt\" auf \"float\"\n",
    "eis_df[\"Flaeche in ha\"] = pd.to_numeric(eis_df[\"Flaeche in ha\"], errors='coerce')\n",
    "eis_df.head()  "
   ]
  },
  {
   "cell_type": "markdown",
   "metadata": {
    "slideshow": {
     "slide_type": "slide"
    }
   },
   "source": [
    "### Stellen Sie die Blauseisgletscher-Hektar über die Temperatur in Bayern dar, interpolieren Sie dafür beide Datensätze auf die gleichen Jahreszahlen"
   ]
  },
  {
   "cell_type": "markdown",
   "metadata": {
    "slideshow": {
     "slide_type": "slide"
    }
   },
   "source": [
    "Dies machen wir durch einen Left-Join, welcher wie folgt aussieht:\n",
    "\n",
    "\n",
    "![image.png](pictures/left.png)"
   ]
  },
  {
   "cell_type": "code",
   "execution_count": null,
   "metadata": {
    "slideshow": {
     "slide_type": "slide"
    }
   },
   "outputs": [],
   "source": [
    "# Gletscher Flächendaten mit Temperaturen von Bayern zusammenführen anhand der Jahreszahlen\n",
    "eis_air_by_df = eis_df.merge(air_df_by, on=\"Jahr\", how=\"left\")\n",
    "eis_air_by_df"
   ]
  },
  {
   "cell_type": "code",
   "execution_count": null,
   "metadata": {
    "slideshow": {
     "slide_type": "slide"
    }
   },
   "outputs": [],
   "source": [
    "# Graphische Darstellung der Eisfläche und der Temperatur\n",
    "fig, ax = plt.subplots()\n",
    "fig.set_size_inches(12, 5)\n",
    "\n",
    "ax.set_title(\"Eisfläche zur Temperatur\", fontsize=20)\n",
    "font1 = {'size':14}\n",
    "\n",
    "# erster Graph zur Darstellung der Temperatur über die Zeit\n",
    "ax.plot(eis_air_by_df[\"Jahr\"], eis_air_by_df[\"Bayern\"], color=\"r\", marker=\"o\", label=\"temperatur\")\n",
    "ax.set_xlabel(\"Jahr\", fontdict = font1)\n",
    "ax.set_ylabel(\"Temperatur in Celcius\",  fontdict = font1)\n",
    "\n",
    "\n",
    "# Zweiter Graph für Darstellung der Eisfläche über die Zeit\n",
    "ax2 = ax.twinx() \n",
    "ax2.invert_yaxis()\n",
    "ax2.plot(eis_air_by_df[\"Jahr\"], eis_air_by_df[\"Flaeche in ha\"], color=\"b\", marker=\"o\", label=\"eisflaeche\")\n",
    "ax2.set_ylabel(\"Eisflaeche in ha\", fontdict = font1)\n",
    "\n",
    "\n",
    "# Änder der Schriftgröße von den Beschriftungen\n",
    "for label in (ax.get_xticklabels() + ax.get_yticklabels() + ax2.get_yticklabels()):\n",
    "    label.set_fontsize(12)\n",
    "\n",
    "fig.legend()\n",
    "fig.savefig('pictures/eis_vs_temp_s.png')\n",
    "plt.close()"
   ]
  },
  {
   "cell_type": "markdown",
   "metadata": {
    "slideshow": {
     "slide_type": "slide"
    }
   },
   "source": [
    "<center> <img src='pictures/eis_vs_temp_s.png'> </center>"
   ]
  },
  {
   "cell_type": "markdown",
   "metadata": {
    "slideshow": {
     "slide_type": "fragment"
    }
   },
   "source": [
    "Der Graph ist nicht genau, da noch nicht alle Temperaturwärte dargestellt werden, sondern nur die Temperatur zu dem Jahreszeitpunkt.\n",
    "Lass uns das ändern und alle Temperaturwärte mit einbeziehen."
   ]
  },
  {
   "cell_type": "code",
   "execution_count": null,
   "metadata": {
    "slideshow": {
     "slide_type": "slide"
    }
   },
   "outputs": [],
   "source": [
    "# Temperaturen von Bayern mit Gletscher Flächendaten zusammenfühen anhand der Jahreszahlen\n",
    "eis_air_by_merge_df = air_df_by.merge(eis_df, on=\"Jahr\", how=\"left\")\n",
    "eis_air_by_merge_df.head(10)"
   ]
  },
  {
   "cell_type": "markdown",
   "metadata": {
    "slideshow": {
     "slide_type": "fragment"
    }
   },
   "source": [
    "Wie ihr sehen könnt, sind hier viele NaN Werte. Dies liegt daran, dass für die Eisflaeche nur wenige Daten gegeben sind.\n",
    "Um diese Werte zu füllen, werden wir die Werte interpolieren."
   ]
  },
  {
   "cell_type": "code",
   "execution_count": null,
   "metadata": {
    "scrolled": true,
    "slideshow": {
     "slide_type": "slide"
    }
   },
   "outputs": [],
   "source": [
    "# Interpolieren der fehlenden Werte der Eisfläche\n",
    "eis_air_by_merge_df = eis_air_by_merge_df.interpolate(method=\"linear\", limit_direction=\"both\")\n",
    "eis_air_by_merge_df"
   ]
  },
  {
   "cell_type": "code",
   "execution_count": null,
   "metadata": {
    "slideshow": {
     "slide_type": "slide"
    }
   },
   "outputs": [],
   "source": [
    "# Graphische Darstellung der Eisfläche und der Temperatur\n",
    "fig, ax = plt.subplots()\n",
    "fig.set_size_inches(12, 5)\n",
    "\n",
    "ax.set_title(\"Eisfläche zur Temperatur\", fontsize=20)\n",
    "font1 = {'size':14}\n",
    "\n",
    "# erster Graph zur Darstellung der Temperatur über die Zeit\n",
    "ax.plot(eis_air_by_merge_df[\"Jahr\"], eis_air_by_merge_df[\"Bayern\"], color=\"r\", label=\"Temperatur\") \n",
    "ax.set_xlabel(\"Jahr\", fontdict = font1)\n",
    "ax.set_ylabel(\"Temperatur in Celcius\",  fontdict = font1)\n",
    "\n",
    "\n",
    "# Zweiter Graph fuer Darstellung der Eisfläche über die Zeit\n",
    "ax2 = ax.twinx()\n",
    "ax2.invert_yaxis()\n",
    "ax2.plot(eis_air_by_merge_df[\"Jahr\"], eis_air_by_merge_df[\"Flaeche in ha\"], color=\"b\", label=\"Eisflaeche\")\n",
    "ax2.set_ylabel(\"Eisflaeche in ha\", fontdict = font1)\n",
    "\n",
    "\n",
    "# Änder der Schriftgröße von den Beschriftungen\n",
    "for label in (ax.get_xticklabels() + ax.get_yticklabels() + ax2.get_yticklabels()):\n",
    "    label.set_fontsize(12)\n",
    "    \n",
    "fig.legend()\n",
    "fig.savefig('pictures/eis_vs_temp_interp.png')\n",
    "plt.close()"
   ]
  },
  {
   "cell_type": "markdown",
   "metadata": {
    "slideshow": {
     "slide_type": "slide"
    }
   },
   "source": [
    "<center> <img src='pictures/eis_vs_temp_interp.png'> </center>"
   ]
  },
  {
   "cell_type": "markdown",
   "metadata": {
    "slideshow": {
     "slide_type": "slide"
    }
   },
   "source": [
    "### Durchschnittliche Temperatur von Bayern immer zu den jeweiligen existierenden Eisfläche-Daten "
   ]
  },
  {
   "cell_type": "code",
   "execution_count": null,
   "metadata": {
    "slideshow": {
     "slide_type": "slide"
    }
   },
   "outputs": [],
   "source": [
    "# Die Temperaturdaten aus Bayern in Abschnitt unterteilen anhand der Eisflächendaten \n",
    "\n",
    "# Kopie eis_air_by_df erstellen\n",
    "eis_air_by_mean_df = eis_air_by_df[:]\n",
    "\n",
    "# erstes Jahr mit vorhandenen Temperaturdaten\n",
    "first_year = 1881\n",
    "\n",
    "#Hilfs-Array\n",
    "mean_array = []\n",
    "\n",
    "# Die Temperaturdaten Abschnitte unterteilen und entsprechenden Abschnittsdurchschnitt berechnen\n",
    "for year in eis_air_by_df[\"Jahr\"]:\n",
    "    air_mean = air_df_by[(air_df_by[\"Jahr\"] >= first_year) & (air_df_by[\"Jahr\"] <= year)].mean()\n",
    "    mean_array.append(air_mean[\"Bayern\"])\n",
    "    first_year = year"
   ]
  },
  {
   "cell_type": "code",
   "execution_count": null,
   "metadata": {
    "scrolled": true,
    "slideshow": {
     "slide_type": "slide"
    }
   },
   "outputs": [],
   "source": [
    "# Neue Spalte mit Überschrift mean und Daten aus mean_array\n",
    "eis_air_by_mean_df = eis_air_by_mean_df.assign(mean= mean_array)\n",
    "eis_air_by_mean_df"
   ]
  },
  {
   "cell_type": "code",
   "execution_count": null,
   "metadata": {
    "slideshow": {
     "slide_type": "slide"
    }
   },
   "outputs": [],
   "source": [
    "# Graphische Darstellung der Eisfläche und der Temperatur\n",
    "fig, ax = plt.subplots()\n",
    "fig.set_size_inches(12, 5)\n",
    "ax.set_title(\"Vergleich zwischen Mittelwert des Temperaturs und Eisfläche mit 1999\")\n",
    "\n",
    "# erster Graph zur Darstellung der Temperatur über die Zeit\n",
    "ax.plot(eis_air_by_mean_df[\"Jahr\"], eis_air_by_mean_df[\"mean\"], color=\"r\", marker=\"o\", label=\"Temperatur\")\n",
    "ax.set_xlabel(\"Jahr\")\n",
    "ax.set_ylabel(\"Temperatur in Celcius\")\n",
    "\n",
    "# Zweiter Graph für Darstellung der Eisfläche über die Zeit\n",
    "ax2 = ax.twinx()\n",
    "ax2.invert_yaxis()\n",
    "ax2.plot(eis_air_by_mean_df[\"Jahr\"], eis_air_by_mean_df[\"Flaeche in ha\"], color=\"b\", marker=\"o\",  label=\"Eisflaeche\")\n",
    "ax2.set_ylabel(\"Eisflaeche in ha\")\n",
    "\n",
    "fig.legend()\n",
    "fig.savefig('pictures/eis_vs_temp_1999.png')\n",
    "plt.close()"
   ]
  },
  {
   "cell_type": "markdown",
   "metadata": {
    "slideshow": {
     "slide_type": "slide"
    }
   },
   "source": [
    "<center>\n",
    "    <img src='pictures/eis_vs_temp_interp.png'>\n",
    "    <img src='pictures/eis_vs_temp_1999.png'>\n",
    "</center>"
   ]
  },
  {
   "cell_type": "markdown",
   "metadata": {
    "slideshow": {
     "slide_type": "slide"
    }
   },
   "source": [
    "Wegen Schneeauflage konnte 1999 die Gletschergrenze nicht bestimmt werden, weshalb diejenige von 1989 als bestmögliche Alternative gewählt wurde."
   ]
  },
  {
   "cell_type": "code",
   "execution_count": null,
   "metadata": {
    "slideshow": {
     "slide_type": "fragment"
    }
   },
   "outputs": [],
   "source": [
    "# lösche Jahr 1999\n",
    "eis_air_by_mean_new_df = eis_air_by_mean_df.drop([7])"
   ]
  },
  {
   "cell_type": "code",
   "execution_count": null,
   "metadata": {
    "scrolled": false,
    "slideshow": {
     "slide_type": "slide"
    }
   },
   "outputs": [],
   "source": [
    "# Graphische Darstellung der Eisfläche und der Temperatur\n",
    "fig, ax = plt.subplots()\n",
    "fig.set_size_inches(12, 5)\n",
    "\n",
    "# erster Graph zur Darstellung der Temperatur über die Zeit\n",
    "ax.bar(eis_air_by_mean_new_df[\"Jahr\"], eis_air_by_mean_new_df[\"mean\"], color=\"r\", marker=\"o\", label=\"Temperatur\")\n",
    "ax.set_xlabel(\"Jahr\")\n",
    "ax.set_ylabel(\"Temperatur in Celcius\")\n",
    "ax.set_title(\"Vergleich zwischen Mittelwert des Temperaturs und Eisfläche ohne 1999\")\n",
    "\n",
    "# Zweiter Graph fuer Darstellung der Eisfläche über die Zeit\n",
    "ax2 = ax.twinx()\n",
    "ax2.invert_yaxis()\n",
    "ax2.bar(eis_air_by_mean_new_df[\"Jahr\"], eis_air_by_mean_new_df[\"Flaeche in ha\"], color=\"b\", marker=\"o\",  label=\"Eisflaeche\")\n",
    "ax2.set_ylabel(\"Eisflaeche in ha\")\n",
    "\n",
    "fig.legend()\n",
    "fig.savefig('pictures/eis_vs_temp_no_1999.png')\n",
    "plt.close()"
   ]
  },
  {
   "cell_type": "markdown",
   "metadata": {
    "slideshow": {
     "slide_type": "slide"
    }
   },
   "source": [
    "<center> <img src='pictures/eis_vs_temp_no_1999.png'> </center>"
   ]
  },
  {
   "cell_type": "markdown",
   "metadata": {
    "slideshow": {
     "slide_type": "slide"
    }
   },
   "source": [
    "# regplot"
   ]
  },
  {
   "cell_type": "code",
   "execution_count": null,
   "metadata": {
    "slideshow": {
     "slide_type": "slide"
    }
   },
   "outputs": [],
   "source": [
    "# regplot Temperatur von Bayern\n",
    "fig, ax = plt.subplots(1, 2)\n",
    "fig.set_size_inches(12, 5)\n",
    "\n",
    "sns.regplot(x=\"Jahr\", y=\"Bayern\", data=air_df_by, ax=ax[0], color=\"#f24d11\")\n",
    "sns.regplot(x=\"Jahr\", y=\"Flaeche in ha\", data=eis_df, ax=ax[1], color=\"b\")\n",
    "\n",
    "ax[0].set_title(\"Verlauf vom Temperatur in Bayern\")\n",
    "ax[1].set_title(\"Verlauf von der Eisflaeche\")\n",
    "\n",
    "ax2.invert_yaxis()\n",
    "\n",
    "fig.savefig('pictures/regplot_temp_eis.png')\n",
    "plt.close()"
   ]
  },
  {
   "cell_type": "markdown",
   "metadata": {
    "slideshow": {
     "slide_type": "slide"
    }
   },
   "source": [
    "<center> <img src='pictures/regplot_temp_eis.png'> </center>"
   ]
  },
  {
   "cell_type": "code",
   "execution_count": null,
   "metadata": {
    "slideshow": {
     "slide_type": "slide"
    }
   },
   "outputs": [],
   "source": [
    "# regplot Temperatur von Bayern\n",
    "fig, ax = plt.subplots()\n",
    "fig.set_size_inches(12, 5)\n",
    "\n",
    "sns.regplot(x=\"Jahr\", y=\"Bayern\", data=air_df_by, label=\"Temperatur von Bayern\", color=\"#f24d11\")\n",
    "\n",
    "ax2 = ax.twinx()\n",
    "ax2.invert_yaxis()\n",
    "sns.regplot(x=\"Jahr\", y=\"Flaeche in ha\", data=eis_df, ax=ax2, label=\"Eisfläche\", color=\"b\")\n",
    "\n",
    "ax.set_title(\"Eisflaeche vs Temperatur in Bayern\")\n",
    "ax.legend()\n",
    "ax2.legend()\n",
    "\n",
    "fig.savefig('pictures/regplot_temp_eis_one.png')\n",
    "plt.close()"
   ]
  },
  {
   "cell_type": "markdown",
   "metadata": {
    "slideshow": {
     "slide_type": "slide"
    }
   },
   "source": [
    "<center> <img src='pictures/regplot_temp_eis_one.png'> </center>"
   ]
  },
  {
   "cell_type": "markdown",
   "metadata": {
    "slideshow": {
     "slide_type": "slide"
    }
   },
   "source": [
    "Fazit\n",
    "- Die Temperaturen sind über die Jahre angestiegen\n",
    "- Die Eisfläche ist über die Jahre rückläufig\n",
    "\n",
    "Der Grad des Temperaturanstieges und der Grad des Eisflächenrücklaufes nähern sich an\n",
    "\n",
    "mehr Daten über Eisfläche => besserer Vergleich\n",
    "\n",
    "fortlaufenden Temperaturanstieg => Eisfläche  weiterhin reduziert <br>\n",
    "Temperaturanstieg nicht gestoppt oder sogar umgekehrt => Blaueisgipfel in Blaugipfel umbenennen :)"
   ]
  },
  {
   "cell_type": "markdown",
   "metadata": {
    "slideshow": {
     "slide_type": "slide"
    }
   },
   "source": [
    "\n",
    "## Vielen Dank für euer Interesse und eure Aufmerksamkeit!\n",
    "\n",
    "### Habt ihr noch Fragen?"
   ]
  }
 ],
 "metadata": {
  "celltoolbar": "Slideshow",
  "kernelspec": {
   "display_name": "Python 3.9.0 64-bit",
   "language": "python",
   "name": "python3"
  },
  "language_info": {
   "codemirror_mode": {
    "name": "ipython",
    "version": 3
   },
   "file_extension": ".py",
   "mimetype": "text/x-python",
   "name": "python",
   "nbconvert_exporter": "python",
   "pygments_lexer": "ipython3",
   "version": "3.9.0"
  },
  "vscode": {
   "interpreter": {
    "hash": "db166b3327f692f1d769c15e7d19905b0922ce0be0e3933fd25337ea86fce05a"
   }
  }
 },
 "nbformat": 4,
 "nbformat_minor": 4
}
