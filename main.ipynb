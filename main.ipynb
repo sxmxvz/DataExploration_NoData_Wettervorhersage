{
 "cells": [
  {
   "cell_type": "code",
   "execution_count": 71,
   "metadata": {},
   "outputs": [],
   "source": [
    "import pandas as pd;\n",
    "import numpy as np;\n",
    "import matplotlib.pyplot as plt \n",
    "from sklearn.model_selection import train_test_split\n",
    "from sklearn.svm import SVR\n",
    "import datetime as dt\n",
    "import numpy as np\n",
    "import matplotlib.pyplot as plt "
   ]
  },
  {
   "cell_type": "markdown",
   "metadata": {},
   "source": [
    "Import Data"
   ]
  },
  {
   "cell_type": "code",
   "execution_count": 33,
   "metadata": {},
   "outputs": [
    {
     "data": {
      "text/html": [
       "<div>\n",
       "<style scoped>\n",
       "    .dataframe tbody tr th:only-of-type {\n",
       "        vertical-align: middle;\n",
       "    }\n",
       "\n",
       "    .dataframe tbody tr th {\n",
       "        vertical-align: top;\n",
       "    }\n",
       "\n",
       "    .dataframe thead th {\n",
       "        text-align: right;\n",
       "    }\n",
       "</style>\n",
       "<table border=\"1\" class=\"dataframe\">\n",
       "  <thead>\n",
       "    <tr style=\"text-align: right;\">\n",
       "      <th></th>\n",
       "      <th>STATIONS_ID</th>\n",
       "      <th>MESS_DATUM</th>\n",
       "      <th>QN_9</th>\n",
       "      <th>TT_TU</th>\n",
       "      <th>RF_TU</th>\n",
       "      <th>eor</th>\n",
       "    </tr>\n",
       "  </thead>\n",
       "  <tbody>\n",
       "    <tr>\n",
       "      <th>0</th>\n",
       "      <td>5906</td>\n",
       "      <td>1948010101</td>\n",
       "      <td>5</td>\n",
       "      <td>-0.3</td>\n",
       "      <td>90.0</td>\n",
       "      <td>eor</td>\n",
       "    </tr>\n",
       "    <tr>\n",
       "      <th>1</th>\n",
       "      <td>5906</td>\n",
       "      <td>1948010102</td>\n",
       "      <td>5</td>\n",
       "      <td>-0.3</td>\n",
       "      <td>89.0</td>\n",
       "      <td>eor</td>\n",
       "    </tr>\n",
       "    <tr>\n",
       "      <th>2</th>\n",
       "      <td>5906</td>\n",
       "      <td>1948010103</td>\n",
       "      <td>5</td>\n",
       "      <td>0.1</td>\n",
       "      <td>89.0</td>\n",
       "      <td>eor</td>\n",
       "    </tr>\n",
       "    <tr>\n",
       "      <th>3</th>\n",
       "      <td>5906</td>\n",
       "      <td>1948010104</td>\n",
       "      <td>5</td>\n",
       "      <td>0.5</td>\n",
       "      <td>91.0</td>\n",
       "      <td>eor</td>\n",
       "    </tr>\n",
       "    <tr>\n",
       "      <th>4</th>\n",
       "      <td>5906</td>\n",
       "      <td>1948010105</td>\n",
       "      <td>5</td>\n",
       "      <td>0.8</td>\n",
       "      <td>87.0</td>\n",
       "      <td>eor</td>\n",
       "    </tr>\n",
       "    <tr>\n",
       "      <th>...</th>\n",
       "      <td>...</td>\n",
       "      <td>...</td>\n",
       "      <td>...</td>\n",
       "      <td>...</td>\n",
       "      <td>...</td>\n",
       "      <td>...</td>\n",
       "    </tr>\n",
       "    <tr>\n",
       "      <th>648607</th>\n",
       "      <td>5906</td>\n",
       "      <td>2021123119</td>\n",
       "      <td>3</td>\n",
       "      <td>10.2</td>\n",
       "      <td>91.0</td>\n",
       "      <td>eor</td>\n",
       "    </tr>\n",
       "    <tr>\n",
       "      <th>648608</th>\n",
       "      <td>5906</td>\n",
       "      <td>2021123120</td>\n",
       "      <td>3</td>\n",
       "      <td>10.9</td>\n",
       "      <td>88.0</td>\n",
       "      <td>eor</td>\n",
       "    </tr>\n",
       "    <tr>\n",
       "      <th>648609</th>\n",
       "      <td>5906</td>\n",
       "      <td>2021123121</td>\n",
       "      <td>3</td>\n",
       "      <td>11.0</td>\n",
       "      <td>88.0</td>\n",
       "      <td>eor</td>\n",
       "    </tr>\n",
       "    <tr>\n",
       "      <th>648610</th>\n",
       "      <td>5906</td>\n",
       "      <td>2021123122</td>\n",
       "      <td>3</td>\n",
       "      <td>11.1</td>\n",
       "      <td>88.0</td>\n",
       "      <td>eor</td>\n",
       "    </tr>\n",
       "    <tr>\n",
       "      <th>648611</th>\n",
       "      <td>5906</td>\n",
       "      <td>2021123123</td>\n",
       "      <td>3</td>\n",
       "      <td>11.5</td>\n",
       "      <td>86.0</td>\n",
       "      <td>eor</td>\n",
       "    </tr>\n",
       "  </tbody>\n",
       "</table>\n",
       "<p>648612 rows × 6 columns</p>\n",
       "</div>"
      ],
      "text/plain": [
       "        STATIONS_ID  MESS_DATUM  QN_9  TT_TU  RF_TU  eor\n",
       "0              5906  1948010101     5   -0.3   90.0  eor\n",
       "1              5906  1948010102     5   -0.3   89.0  eor\n",
       "2              5906  1948010103     5    0.1   89.0  eor\n",
       "3              5906  1948010104     5    0.5   91.0  eor\n",
       "4              5906  1948010105     5    0.8   87.0  eor\n",
       "...             ...         ...   ...    ...    ...  ...\n",
       "648607         5906  2021123119     3   10.2   91.0  eor\n",
       "648608         5906  2021123120     3   10.9   88.0  eor\n",
       "648609         5906  2021123121     3   11.0   88.0  eor\n",
       "648610         5906  2021123122     3   11.1   88.0  eor\n",
       "648611         5906  2021123123     3   11.5   86.0  eor\n",
       "\n",
       "[648612 rows x 6 columns]"
      ]
     },
     "execution_count": 33,
     "metadata": {},
     "output_type": "execute_result"
    }
   ],
   "source": [
    "#import data\n",
    "\n",
    "df = pd.read_csv(\"data\\produkt_tu_stunde_19480101_20211231_05906.txt\", delimiter=';')\n",
    "df"
   ]
  },
  {
   "cell_type": "markdown",
   "metadata": {},
   "source": [
    "Clean & harmonize data set"
   ]
  },
  {
   "cell_type": "code",
   "execution_count": 34,
   "metadata": {},
   "outputs": [
    {
     "data": {
      "text/html": [
       "<div>\n",
       "<style scoped>\n",
       "    .dataframe tbody tr th:only-of-type {\n",
       "        vertical-align: middle;\n",
       "    }\n",
       "\n",
       "    .dataframe tbody tr th {\n",
       "        vertical-align: top;\n",
       "    }\n",
       "\n",
       "    .dataframe thead th {\n",
       "        text-align: right;\n",
       "    }\n",
       "</style>\n",
       "<table border=\"1\" class=\"dataframe\">\n",
       "  <thead>\n",
       "    <tr style=\"text-align: right;\">\n",
       "      <th></th>\n",
       "      <th>MESS_DATUM</th>\n",
       "      <th>TT_TU</th>\n",
       "      <th>RF_TU</th>\n",
       "    </tr>\n",
       "  </thead>\n",
       "  <tbody>\n",
       "    <tr>\n",
       "      <th>0</th>\n",
       "      <td>1948010101</td>\n",
       "      <td>-0.3</td>\n",
       "      <td>90.0</td>\n",
       "    </tr>\n",
       "    <tr>\n",
       "      <th>1</th>\n",
       "      <td>1948010102</td>\n",
       "      <td>-0.3</td>\n",
       "      <td>89.0</td>\n",
       "    </tr>\n",
       "  </tbody>\n",
       "</table>\n",
       "</div>"
      ],
      "text/plain": [
       "   MESS_DATUM  TT_TU  RF_TU\n",
       "0  1948010101   -0.3   90.0\n",
       "1  1948010102   -0.3   89.0"
      ]
     },
     "execution_count": 34,
     "metadata": {},
     "output_type": "execute_result"
    }
   ],
   "source": [
    "#remove unneeded data\n",
    "\n",
    "df=df.drop(columns=['STATIONS_ID', 'QN_9', 'eor'])\n",
    "df.head(2)"
   ]
  },
  {
   "cell_type": "code",
   "execution_count": 35,
   "metadata": {},
   "outputs": [],
   "source": [
    "#rename MESS_DATUM in Date\n",
    "\n",
    "df = df.rename(columns={\"MESS_DATUM\": \"Date\"})"
   ]
  },
  {
   "cell_type": "code",
   "execution_count": 36,
   "metadata": {},
   "outputs": [
    {
     "data": {
      "text/html": [
       "<div>\n",
       "<style scoped>\n",
       "    .dataframe tbody tr th:only-of-type {\n",
       "        vertical-align: middle;\n",
       "    }\n",
       "\n",
       "    .dataframe tbody tr th {\n",
       "        vertical-align: top;\n",
       "    }\n",
       "\n",
       "    .dataframe thead th {\n",
       "        text-align: right;\n",
       "    }\n",
       "</style>\n",
       "<table border=\"1\" class=\"dataframe\">\n",
       "  <thead>\n",
       "    <tr style=\"text-align: right;\">\n",
       "      <th></th>\n",
       "      <th>Date</th>\n",
       "      <th>TT_TU</th>\n",
       "      <th>RF_TU</th>\n",
       "    </tr>\n",
       "  </thead>\n",
       "  <tbody>\n",
       "    <tr>\n",
       "      <th>0</th>\n",
       "      <td>1948-01-01 01:00:00</td>\n",
       "      <td>-0.3</td>\n",
       "      <td>90.0</td>\n",
       "    </tr>\n",
       "    <tr>\n",
       "      <th>1</th>\n",
       "      <td>1948-01-01 02:00:00</td>\n",
       "      <td>-0.3</td>\n",
       "      <td>89.0</td>\n",
       "    </tr>\n",
       "  </tbody>\n",
       "</table>\n",
       "</div>"
      ],
      "text/plain": [
       "                 Date  TT_TU  RF_TU\n",
       "0 1948-01-01 01:00:00   -0.3   90.0\n",
       "1 1948-01-01 02:00:00   -0.3   89.0"
      ]
     },
     "execution_count": 36,
     "metadata": {},
     "output_type": "execute_result"
    }
   ],
   "source": [
    "#convert int to date\n",
    "\n",
    "df['Date'] = pd.to_datetime(df['Date'], format='%Y%m%d%H')\n",
    "df.head(2)"
   ]
  },
  {
   "cell_type": "code",
   "execution_count": 37,
   "metadata": {},
   "outputs": [
    {
     "data": {
      "text/html": [
       "<div>\n",
       "<style scoped>\n",
       "    .dataframe tbody tr th:only-of-type {\n",
       "        vertical-align: middle;\n",
       "    }\n",
       "\n",
       "    .dataframe tbody tr th {\n",
       "        vertical-align: top;\n",
       "    }\n",
       "\n",
       "    .dataframe thead th {\n",
       "        text-align: right;\n",
       "    }\n",
       "</style>\n",
       "<table border=\"1\" class=\"dataframe\">\n",
       "  <thead>\n",
       "    <tr style=\"text-align: right;\">\n",
       "      <th></th>\n",
       "      <th>Date</th>\n",
       "      <th>TT_TU</th>\n",
       "      <th>RF_TU</th>\n",
       "    </tr>\n",
       "  </thead>\n",
       "  <tbody>\n",
       "    <tr>\n",
       "      <th>596004</th>\n",
       "      <td>2016-01-01 00:00:00</td>\n",
       "      <td>4.4</td>\n",
       "      <td>100.0</td>\n",
       "    </tr>\n",
       "    <tr>\n",
       "      <th>596005</th>\n",
       "      <td>2016-01-01 01:00:00</td>\n",
       "      <td>3.1</td>\n",
       "      <td>100.0</td>\n",
       "    </tr>\n",
       "    <tr>\n",
       "      <th>596006</th>\n",
       "      <td>2016-01-01 02:00:00</td>\n",
       "      <td>4.0</td>\n",
       "      <td>100.0</td>\n",
       "    </tr>\n",
       "    <tr>\n",
       "      <th>596007</th>\n",
       "      <td>2016-01-01 03:00:00</td>\n",
       "      <td>4.2</td>\n",
       "      <td>100.0</td>\n",
       "    </tr>\n",
       "    <tr>\n",
       "      <th>596008</th>\n",
       "      <td>2016-01-01 04:00:00</td>\n",
       "      <td>4.1</td>\n",
       "      <td>100.0</td>\n",
       "    </tr>\n",
       "    <tr>\n",
       "      <th>...</th>\n",
       "      <td>...</td>\n",
       "      <td>...</td>\n",
       "      <td>...</td>\n",
       "    </tr>\n",
       "    <tr>\n",
       "      <th>648607</th>\n",
       "      <td>2021-12-31 19:00:00</td>\n",
       "      <td>10.2</td>\n",
       "      <td>91.0</td>\n",
       "    </tr>\n",
       "    <tr>\n",
       "      <th>648608</th>\n",
       "      <td>2021-12-31 20:00:00</td>\n",
       "      <td>10.9</td>\n",
       "      <td>88.0</td>\n",
       "    </tr>\n",
       "    <tr>\n",
       "      <th>648609</th>\n",
       "      <td>2021-12-31 21:00:00</td>\n",
       "      <td>11.0</td>\n",
       "      <td>88.0</td>\n",
       "    </tr>\n",
       "    <tr>\n",
       "      <th>648610</th>\n",
       "      <td>2021-12-31 22:00:00</td>\n",
       "      <td>11.1</td>\n",
       "      <td>88.0</td>\n",
       "    </tr>\n",
       "    <tr>\n",
       "      <th>648611</th>\n",
       "      <td>2021-12-31 23:00:00</td>\n",
       "      <td>11.5</td>\n",
       "      <td>86.0</td>\n",
       "    </tr>\n",
       "  </tbody>\n",
       "</table>\n",
       "<p>52608 rows × 3 columns</p>\n",
       "</div>"
      ],
      "text/plain": [
       "                      Date  TT_TU  RF_TU\n",
       "596004 2016-01-01 00:00:00    4.4  100.0\n",
       "596005 2016-01-01 01:00:00    3.1  100.0\n",
       "596006 2016-01-01 02:00:00    4.0  100.0\n",
       "596007 2016-01-01 03:00:00    4.2  100.0\n",
       "596008 2016-01-01 04:00:00    4.1  100.0\n",
       "...                    ...    ...    ...\n",
       "648607 2021-12-31 19:00:00   10.2   91.0\n",
       "648608 2021-12-31 20:00:00   10.9   88.0\n",
       "648609 2021-12-31 21:00:00   11.0   88.0\n",
       "648610 2021-12-31 22:00:00   11.1   88.0\n",
       "648611 2021-12-31 23:00:00   11.5   86.0\n",
       "\n",
       "[52608 rows x 3 columns]"
      ]
     },
     "execution_count": 37,
     "metadata": {},
     "output_type": "execute_result"
    }
   ],
   "source": [
    "#only last 21 years\n",
    "\n",
    "df=df[df['Date'].dt.year >= 2001]\n",
    "df"
   ]
  },
  {
   "cell_type": "code",
   "execution_count": 38,
   "metadata": {},
   "outputs": [],
   "source": [
    "#remove leap years from dataset\n",
    "\n",
    "df = df[~((df.Date.dt.month == 2) & (df.Date.dt.day == 29)) ]"
   ]
  },
  {
   "cell_type": "code",
   "execution_count": 39,
   "metadata": {},
   "outputs": [
    {
     "data": {
      "text/plain": [
       "Date     2016-01-01 00:00:00\n",
       "TT_TU                   -999\n",
       "RF_TU                   -999\n",
       "dtype: object"
      ]
     },
     "execution_count": 39,
     "metadata": {},
     "output_type": "execute_result"
    }
   ],
   "source": [
    "#problem with -999 values\n",
    "\n",
    "df.min()"
   ]
  },
  {
   "cell_type": "code",
   "execution_count": 40,
   "metadata": {},
   "outputs": [
    {
     "data": {
      "text/plain": [
       "Date     2016-01-01 00:00:00\n",
       "TT_TU                    -13\n",
       "RF_TU                     14\n",
       "dtype: object"
      ]
     },
     "execution_count": 40,
     "metadata": {},
     "output_type": "execute_result"
    }
   ],
   "source": [
    "#replace -999 values with nan\n",
    "\n",
    "df = df.replace(-999, np.nan)\n",
    "df.min()"
   ]
  },
  {
   "cell_type": "code",
   "execution_count": 41,
   "metadata": {},
   "outputs": [
    {
     "data": {
      "text/plain": [
       "Date       0\n",
       "TT_TU    147\n",
       "RF_TU    148\n",
       "dtype: int64"
      ]
     },
     "execution_count": 41,
     "metadata": {},
     "output_type": "execute_result"
    }
   ],
   "source": [
    "#count the nan values\n",
    "\n",
    "df.apply(pd.isnull).sum()"
   ]
  },
  {
   "cell_type": "code",
   "execution_count": 42,
   "metadata": {},
   "outputs": [
    {
     "data": {
      "text/plain": [
       "Date     0\n",
       "TT_TU    0\n",
       "RF_TU    0\n",
       "dtype: int64"
      ]
     },
     "execution_count": 42,
     "metadata": {},
     "output_type": "execute_result"
    }
   ],
   "source": [
    "#fill the nan values with the values forwoard\n",
    "\n",
    "df=df.ffill(axis = 0)\n",
    "df.apply(pd.isnull).sum()\n"
   ]
  },
  {
   "cell_type": "markdown",
   "metadata": {},
   "source": [
    "Data set label & split"
   ]
  },
  {
   "cell_type": "code",
   "execution_count": 43,
   "metadata": {},
   "outputs": [
    {
     "data": {
      "text/html": [
       "<div>\n",
       "<style scoped>\n",
       "    .dataframe tbody tr th:only-of-type {\n",
       "        vertical-align: middle;\n",
       "    }\n",
       "\n",
       "    .dataframe tbody tr th {\n",
       "        vertical-align: top;\n",
       "    }\n",
       "\n",
       "    .dataframe thead th {\n",
       "        text-align: right;\n",
       "    }\n",
       "</style>\n",
       "<table border=\"1\" class=\"dataframe\">\n",
       "  <thead>\n",
       "    <tr style=\"text-align: right;\">\n",
       "      <th></th>\n",
       "      <th>Date</th>\n",
       "      <th>TT_TU</th>\n",
       "      <th>RF_TU</th>\n",
       "      <th>Prediction_TT</th>\n",
       "      <th>Prediction_RF</th>\n",
       "    </tr>\n",
       "  </thead>\n",
       "  <tbody>\n",
       "    <tr>\n",
       "      <th>596004</th>\n",
       "      <td>2016-01-01 00:00:00</td>\n",
       "      <td>4.4</td>\n",
       "      <td>100.0</td>\n",
       "      <td>5.5</td>\n",
       "      <td>78.0</td>\n",
       "    </tr>\n",
       "    <tr>\n",
       "      <th>596005</th>\n",
       "      <td>2016-01-01 01:00:00</td>\n",
       "      <td>3.1</td>\n",
       "      <td>100.0</td>\n",
       "      <td>5.9</td>\n",
       "      <td>77.0</td>\n",
       "    </tr>\n",
       "    <tr>\n",
       "      <th>596006</th>\n",
       "      <td>2016-01-01 02:00:00</td>\n",
       "      <td>4.0</td>\n",
       "      <td>100.0</td>\n",
       "      <td>5.9</td>\n",
       "      <td>84.0</td>\n",
       "    </tr>\n",
       "    <tr>\n",
       "      <th>596007</th>\n",
       "      <td>2016-01-01 03:00:00</td>\n",
       "      <td>4.2</td>\n",
       "      <td>100.0</td>\n",
       "      <td>5.5</td>\n",
       "      <td>80.0</td>\n",
       "    </tr>\n",
       "    <tr>\n",
       "      <th>596008</th>\n",
       "      <td>2016-01-01 04:00:00</td>\n",
       "      <td>4.1</td>\n",
       "      <td>100.0</td>\n",
       "      <td>4.8</td>\n",
       "      <td>82.0</td>\n",
       "    </tr>\n",
       "    <tr>\n",
       "      <th>...</th>\n",
       "      <td>...</td>\n",
       "      <td>...</td>\n",
       "      <td>...</td>\n",
       "      <td>...</td>\n",
       "      <td>...</td>\n",
       "    </tr>\n",
       "    <tr>\n",
       "      <th>648607</th>\n",
       "      <td>2021-12-31 19:00:00</td>\n",
       "      <td>10.2</td>\n",
       "      <td>91.0</td>\n",
       "      <td>NaN</td>\n",
       "      <td>NaN</td>\n",
       "    </tr>\n",
       "    <tr>\n",
       "      <th>648608</th>\n",
       "      <td>2021-12-31 20:00:00</td>\n",
       "      <td>10.9</td>\n",
       "      <td>88.0</td>\n",
       "      <td>NaN</td>\n",
       "      <td>NaN</td>\n",
       "    </tr>\n",
       "    <tr>\n",
       "      <th>648609</th>\n",
       "      <td>2021-12-31 21:00:00</td>\n",
       "      <td>11.0</td>\n",
       "      <td>88.0</td>\n",
       "      <td>NaN</td>\n",
       "      <td>NaN</td>\n",
       "    </tr>\n",
       "    <tr>\n",
       "      <th>648610</th>\n",
       "      <td>2021-12-31 22:00:00</td>\n",
       "      <td>11.1</td>\n",
       "      <td>88.0</td>\n",
       "      <td>NaN</td>\n",
       "      <td>NaN</td>\n",
       "    </tr>\n",
       "    <tr>\n",
       "      <th>648611</th>\n",
       "      <td>2021-12-31 23:00:00</td>\n",
       "      <td>11.5</td>\n",
       "      <td>86.0</td>\n",
       "      <td>NaN</td>\n",
       "      <td>NaN</td>\n",
       "    </tr>\n",
       "  </tbody>\n",
       "</table>\n",
       "<p>52560 rows × 5 columns</p>\n",
       "</div>"
      ],
      "text/plain": [
       "                      Date  TT_TU  RF_TU  Prediction_TT  Prediction_RF\n",
       "596004 2016-01-01 00:00:00    4.4  100.0            5.5           78.0\n",
       "596005 2016-01-01 01:00:00    3.1  100.0            5.9           77.0\n",
       "596006 2016-01-01 02:00:00    4.0  100.0            5.9           84.0\n",
       "596007 2016-01-01 03:00:00    4.2  100.0            5.5           80.0\n",
       "596008 2016-01-01 04:00:00    4.1  100.0            4.8           82.0\n",
       "...                    ...    ...    ...            ...            ...\n",
       "648607 2021-12-31 19:00:00   10.2   91.0            NaN            NaN\n",
       "648608 2021-12-31 20:00:00   10.9   88.0            NaN            NaN\n",
       "648609 2021-12-31 21:00:00   11.0   88.0            NaN            NaN\n",
       "648610 2021-12-31 22:00:00   11.1   88.0            NaN            NaN\n",
       "648611 2021-12-31 23:00:00   11.5   86.0            NaN            NaN\n",
       "\n",
       "[52560 rows x 5 columns]"
      ]
     },
     "execution_count": 43,
     "metadata": {},
     "output_type": "execute_result"
    }
   ],
   "source": [
    "#create labeled data set for predictions in one year  -> 365*24\n",
    "\n",
    "prediction_hours = (7*24)\n",
    "df[\"Prediction_TT\"]=df[\"TT_TU\"].shift(-prediction_hours)\n",
    "df[\"Prediction_RF\"]=df[\"RF_TU\"].shift(-prediction_hours)\n",
    "\n",
    "df"
   ]
  },
  {
   "cell_type": "code",
   "execution_count": 44,
   "metadata": {},
   "outputs": [],
   "source": [
    "#split the data in x und y axis\n",
    "\n",
    "X = np.array(df[[\"TT_TU\"]])\n",
    "X = X[: len(df)-prediction_hours]"
   ]
  },
  {
   "cell_type": "code",
   "execution_count": 45,
   "metadata": {},
   "outputs": [],
   "source": [
    "#create y values\n",
    "\n",
    "y = np.array(df[\"Prediction_TT\"])\n",
    "y = y[:-prediction_hours]"
   ]
  },
  {
   "cell_type": "code",
   "execution_count": 46,
   "metadata": {},
   "outputs": [],
   "source": [
    "#split the data in in train und test data\n",
    "\n",
    "X_train, X_test, y_train, y_test = train_test_split(X,y, test_size = 0.2)"
   ]
  },
  {
   "cell_type": "code",
   "execution_count": 47,
   "metadata": {},
   "outputs": [],
   "source": [
    "#create variable with prediction space of 365*24 Values  multipli with 24 -> one day has 24 hours\n",
    "\n",
    "prediction_hours_array = np.array(df[['TT_TU']])[-prediction_hours:]"
   ]
  },
  {
   "cell_type": "markdown",
   "metadata": {},
   "source": [
    "Support Vector Regression"
   ]
  },
  {
   "cell_type": "code",
   "execution_count": 48,
   "metadata": {},
   "outputs": [
    {
     "data": {
      "text/plain": [
       "SVR(C=1000.0, gamma=0.1)"
      ]
     },
     "execution_count": 48,
     "metadata": {},
     "output_type": "execute_result"
    }
   ],
   "source": [
    "#from sklearn.svm import SVR\n",
    "\n",
    "#Support Vector Regression with radial basis function\n",
    "\n",
    "svr_rbf = SVR(kernel=\"rbf\", C=1e3, gamma=0.1)\n",
    "svr_rbf.fit(X_train, y_train)"
   ]
  },
  {
   "cell_type": "code",
   "execution_count": 49,
   "metadata": {},
   "outputs": [
    {
     "name": "stdout",
     "output_type": "stream",
     "text": [
      "Model Score:  0.6287512948527916\n"
     ]
    }
   ],
   "source": [
    "#score of the model\n",
    "\n",
    "model_test = svr_rbf.score(X_test, y_test)\n",
    "print(\"Model Score: \", model_test)"
   ]
  },
  {
   "cell_type": "markdown",
   "metadata": {},
   "source": [
    "Visualization of the result"
   ]
  },
  {
   "cell_type": "code",
   "execution_count": 50,
   "metadata": {},
   "outputs": [
    {
     "name": "stdout",
     "output_type": "stream",
     "text": [
      "[ 6.78169115  6.52637346  6.40549757  6.2904962   6.65213381  6.78169115\n",
      "  6.65213381  7.04758833  6.65213381  6.78169115  6.78169115  5.34298035\n",
      "  5.28378163  5.25033198  5.17526731  4.95174232  4.9988108   4.81219514\n",
      "  4.6103644   4.51246108  4.51246108  4.48215469  4.45215466  4.48215469\n",
      "  4.35787071  4.32299138  4.15384899  4.15384899  4.10314306  4.10314306\n",
      "  4.10314306  4.04919858  3.99236933  4.10314306  4.24496442  4.42185632\n",
      "  4.57613591  4.6103644   4.64658076  4.6103644   4.54362855  4.57613591\n",
      "  4.57613591  4.51246108  4.51246108  4.51246108  4.51246108  4.54362855\n",
      "  4.6103644   4.68492607  4.68492607  4.85790071  5.17526731  5.52669703\n",
      "  5.64696126  5.69954666  6.08139072  6.40549757  7.4464199  10.1013507\n",
      " 10.1013507   9.55832379  9.18957392  9.00967621  8.46465992  8.46465992\n",
      "  8.05333814  8.26666112  8.16209643  7.82268272  7.70094303  7.82268272\n",
      "  7.4464199   8.05333814  8.05333814  8.26666112  8.46465992  8.36736384\n",
      "  8.16209643  8.16209643  8.05333814  8.05333814  9.09927529  9.83595503\n",
      " 10.26604789 10.4923112  10.56308367  9.55832379  8.36736384  7.94020436\n",
      "  8.26666112  8.16209643  9.37265081 10.1013507  10.01501305  9.92640909\n",
      " 10.1013507  10.01501305  9.46527917  9.65141971  9.37265081  9.46527917\n",
      "  8.83139896  9.18957392  9.28070182  9.28070182  9.83595503  9.65141971\n",
      "  9.09927529  9.09927529  9.55832379  9.46527917  9.18957392  8.5590974\n",
      "  8.65128276  9.00967621  9.46527917  9.92640909 10.34414101 10.34414101\n",
      " 10.7009264  11.43190039 11.33066208 10.83922142 10.56308367 10.63237954\n",
      " 11.06394398 12.31152881 12.45433953 12.74297536 14.01637963 14.6928731\n",
      " 14.9805836  14.01637963 13.68106194 13.55965088 13.55965088 13.30233232\n",
      " 12.45433953 13.0282416  13.16709625 12.45433953 12.74297536 13.30233232\n",
      " 13.16709625 12.74297536 12.17121855 11.1471754  10.63237954 10.34414101\n",
      " 10.34414101  9.83595503  9.18957392 10.1013507  10.9108612  11.43190039\n",
      " 11.775301   11.43190039 11.23588731 12.5985333  10.98545737 10.4923112\n",
      "  9.74412572  9.92640909 10.4923112  10.56308367 10.63237954 10.9108612 ]\n",
      "\n",
      "648444     7.2\n",
      "648445     7.0\n",
      "648446     6.9\n",
      "648447     6.8\n",
      "648448     7.1\n",
      "          ... \n",
      "648607    10.2\n",
      "648608    10.9\n",
      "648609    11.0\n",
      "648610    11.1\n",
      "648611    11.5\n",
      "Name: TT_TU, Length: 168, dtype: float64\n"
     ]
    }
   ],
   "source": [
    "#print final prediction \n",
    "\n",
    "svm_prediction = svr_rbf.predict(prediction_hours_array)\n",
    "print(svm_prediction)\n",
    "\n",
    "print()\n",
    "\n",
    "\n",
    "print(df[\"TT_TU\"].tail(prediction_hours))"
   ]
  },
  {
   "cell_type": "code",
   "execution_count": 79,
   "metadata": {},
   "outputs": [
    {
     "name": "stdout",
     "output_type": "stream",
     "text": [
      "52560\n",
      "52560\n"
     ]
    },
    {
     "data": {
      "text/html": [
       "<div>\n",
       "<style scoped>\n",
       "    .dataframe tbody tr th:only-of-type {\n",
       "        vertical-align: middle;\n",
       "    }\n",
       "\n",
       "    .dataframe tbody tr th {\n",
       "        vertical-align: top;\n",
       "    }\n",
       "\n",
       "    .dataframe thead th {\n",
       "        text-align: right;\n",
       "    }\n",
       "</style>\n",
       "<table border=\"1\" class=\"dataframe\">\n",
       "  <thead>\n",
       "    <tr style=\"text-align: right;\">\n",
       "      <th></th>\n",
       "      <th>Date</th>\n",
       "      <th>TT_TU</th>\n",
       "      <th>RF_TU</th>\n",
       "      <th>Prediction_TT</th>\n",
       "      <th>Prediction_RF</th>\n",
       "      <th>svm_prediction</th>\n",
       "    </tr>\n",
       "  </thead>\n",
       "  <tbody>\n",
       "    <tr>\n",
       "      <th>0</th>\n",
       "      <td>2016-01-01 00:00:00</td>\n",
       "      <td>4.4</td>\n",
       "      <td>100.0</td>\n",
       "      <td>5.5</td>\n",
       "      <td>78.0</td>\n",
       "      <td>NaN</td>\n",
       "    </tr>\n",
       "    <tr>\n",
       "      <th>1</th>\n",
       "      <td>2016-01-01 01:00:00</td>\n",
       "      <td>3.1</td>\n",
       "      <td>100.0</td>\n",
       "      <td>5.9</td>\n",
       "      <td>77.0</td>\n",
       "      <td>NaN</td>\n",
       "    </tr>\n",
       "    <tr>\n",
       "      <th>2</th>\n",
       "      <td>2016-01-01 02:00:00</td>\n",
       "      <td>4.0</td>\n",
       "      <td>100.0</td>\n",
       "      <td>5.9</td>\n",
       "      <td>84.0</td>\n",
       "      <td>NaN</td>\n",
       "    </tr>\n",
       "    <tr>\n",
       "      <th>3</th>\n",
       "      <td>2016-01-01 03:00:00</td>\n",
       "      <td>4.2</td>\n",
       "      <td>100.0</td>\n",
       "      <td>5.5</td>\n",
       "      <td>80.0</td>\n",
       "      <td>NaN</td>\n",
       "    </tr>\n",
       "    <tr>\n",
       "      <th>4</th>\n",
       "      <td>2016-01-01 04:00:00</td>\n",
       "      <td>4.1</td>\n",
       "      <td>100.0</td>\n",
       "      <td>4.8</td>\n",
       "      <td>82.0</td>\n",
       "      <td>NaN</td>\n",
       "    </tr>\n",
       "    <tr>\n",
       "      <th>...</th>\n",
       "      <td>...</td>\n",
       "      <td>...</td>\n",
       "      <td>...</td>\n",
       "      <td>...</td>\n",
       "      <td>...</td>\n",
       "      <td>...</td>\n",
       "    </tr>\n",
       "    <tr>\n",
       "      <th>52555</th>\n",
       "      <td>2021-12-31 19:00:00</td>\n",
       "      <td>10.2</td>\n",
       "      <td>91.0</td>\n",
       "      <td>NaN</td>\n",
       "      <td>NaN</td>\n",
       "      <td>9.926409</td>\n",
       "    </tr>\n",
       "    <tr>\n",
       "      <th>52556</th>\n",
       "      <td>2021-12-31 20:00:00</td>\n",
       "      <td>10.9</td>\n",
       "      <td>88.0</td>\n",
       "      <td>NaN</td>\n",
       "      <td>NaN</td>\n",
       "      <td>10.492311</td>\n",
       "    </tr>\n",
       "    <tr>\n",
       "      <th>52557</th>\n",
       "      <td>2021-12-31 21:00:00</td>\n",
       "      <td>11.0</td>\n",
       "      <td>88.0</td>\n",
       "      <td>NaN</td>\n",
       "      <td>NaN</td>\n",
       "      <td>10.563084</td>\n",
       "    </tr>\n",
       "    <tr>\n",
       "      <th>52558</th>\n",
       "      <td>2021-12-31 22:00:00</td>\n",
       "      <td>11.1</td>\n",
       "      <td>88.0</td>\n",
       "      <td>NaN</td>\n",
       "      <td>NaN</td>\n",
       "      <td>10.632380</td>\n",
       "    </tr>\n",
       "    <tr>\n",
       "      <th>52559</th>\n",
       "      <td>2021-12-31 23:00:00</td>\n",
       "      <td>11.5</td>\n",
       "      <td>86.0</td>\n",
       "      <td>NaN</td>\n",
       "      <td>NaN</td>\n",
       "      <td>10.910861</td>\n",
       "    </tr>\n",
       "  </tbody>\n",
       "</table>\n",
       "<p>52560 rows × 6 columns</p>\n",
       "</div>"
      ],
      "text/plain": [
       "                     Date  TT_TU  RF_TU  Prediction_TT  Prediction_RF  \\\n",
       "0     2016-01-01 00:00:00    4.4  100.0            5.5           78.0   \n",
       "1     2016-01-01 01:00:00    3.1  100.0            5.9           77.0   \n",
       "2     2016-01-01 02:00:00    4.0  100.0            5.9           84.0   \n",
       "3     2016-01-01 03:00:00    4.2  100.0            5.5           80.0   \n",
       "4     2016-01-01 04:00:00    4.1  100.0            4.8           82.0   \n",
       "...                   ...    ...    ...            ...            ...   \n",
       "52555 2021-12-31 19:00:00   10.2   91.0            NaN            NaN   \n",
       "52556 2021-12-31 20:00:00   10.9   88.0            NaN            NaN   \n",
       "52557 2021-12-31 21:00:00   11.0   88.0            NaN            NaN   \n",
       "52558 2021-12-31 22:00:00   11.1   88.0            NaN            NaN   \n",
       "52559 2021-12-31 23:00:00   11.5   86.0            NaN            NaN   \n",
       "\n",
       "       svm_prediction  \n",
       "0                 NaN  \n",
       "1                 NaN  \n",
       "2                 NaN  \n",
       "3                 NaN  \n",
       "4                 NaN  \n",
       "...               ...  \n",
       "52555        9.926409  \n",
       "52556       10.492311  \n",
       "52557       10.563084  \n",
       "52558       10.632380  \n",
       "52559       10.910861  \n",
       "\n",
       "[52560 rows x 6 columns]"
      ]
     },
     "execution_count": 79,
     "metadata": {},
     "output_type": "execute_result"
    }
   ],
   "source": [
    "#add svm_prediction to dataframe 2 for plot\n",
    "\n",
    "#create a copy of df to df2\n",
    "df2 = pd.DataFrame(columns= [\"Date\"])\n",
    "df2['Date'] = df['Date']\n",
    "df2['TT_TU'] = df['TT_TU']\n",
    "df2['RF_TU'] = df['RF_TU']\n",
    "df2['Prediction_TT'] = df['Prediction_TT']\n",
    "df2['Prediction_RF'] = df['Prediction_RF']\n",
    "df2 = df2.reset_index(drop=True)\n",
    "df2['Date'] = pd.to_datetime(df2['Date'])\n",
    "\n",
    "#create array with nan values\n",
    "x= (len(df2)- prediction_hours)\n",
    "a = np.empty([x])\n",
    "a[:] = np.nan\n",
    "\n",
    "#add final prediction to nan array\n",
    "a = np.append(a,svm_prediction)\n",
    "\n",
    "#add final array to dataframe2 for plot\n",
    "df2.loc[:,'svm_prediction'] = pd.Series(a)\n",
    "df2"
   ]
  },
  {
   "cell_type": "code",
   "execution_count": 84,
   "metadata": {},
   "outputs": [
    {
     "data": {
      "text/plain": [
       "<matplotlib.axes._subplots.AxesSubplot at 0x161c1ea1730>"
      ]
     },
     "execution_count": 84,
     "metadata": {},
     "output_type": "execute_result"
    },
    {
     "data": {
      "image/png": "[encoded data removed]",
      "text/plain": [
       "<Figure size 432x288 with 1 Axes>"
      ]
     },
     "metadata": {
      "needs_background": "light"
     },
     "output_type": "display_data"
    }
   ],
   "source": [
    "#plot prediction over total value\n",
    "#scope in days for range options\n",
    "\n",
    "scope = 0\n",
    "xy = pd.to_datetime('2021-12-31') - pd.DateOffset(days=((prediction_hours/24)-1) + scope)\n",
    "\n",
    "df3=df2[df2['Date'] >= xy]\n",
    "df3.plot(x=\"Date\", y=[\"TT_TU\", \"svm_prediction\"], kind=\"line\")"
   ]
  }
 ],
 "metadata": {
  "interpreter": {
   "hash": "ad2bdc8ecc057115af97d19610ffacc2b4e99fae6737bb82f5d7fb13d2f2c186"
  },
  "kernelspec": {
   "display_name": "Python 3.8.3 ('base')",
   "language": "python",
   "name": "python3"
  },
  "language_info": {
   "codemirror_mode": {
    "name": "ipython",
    "version": 3
   },
   "file_extension": ".py",
   "mimetype": "text/x-python",
   "name": "python",
   "nbconvert_exporter": "python",
   "pygments_lexer": "ipython3",
   "version": "3.8.3"
  },
  "orig_nbformat": 4,
  "vscode": {
   "interpreter": {
    "hash": "07bdc3776e971382aa5f670579af6006f098006e7d4a5bb7c27946475470bfdc"
   }
  }
 },
 "nbformat": 4,
 "nbformat_minor": 2
}
