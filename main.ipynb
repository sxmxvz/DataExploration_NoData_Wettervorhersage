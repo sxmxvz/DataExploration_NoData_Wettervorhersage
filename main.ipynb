{
 "cells": [
  {
   "cell_type": "code",
   "execution_count": 54,
   "metadata": {},
   "outputs": [],
   "source": [
    "import pandas as pd;\n",
    "import numpy as np;\n",
    "import matplotlib.pyplot as plt \n",
    "from sklearn.model_selection import train_test_split\n",
    "from sklearn.svm import SVR\n",
    "import datetime as dt"
   ]
  },
  {
   "cell_type": "markdown",
   "metadata": {},
   "source": [
    "Import Data"
   ]
  },
  {
   "cell_type": "code",
   "execution_count": 55,
   "metadata": {},
   "outputs": [
    {
     "data": {
      "text/html": [
       "<div>\n",
       "<style scoped>\n",
       "    .dataframe tbody tr th:only-of-type {\n",
       "        vertical-align: middle;\n",
       "    }\n",
       "\n",
       "    .dataframe tbody tr th {\n",
       "        vertical-align: top;\n",
       "    }\n",
       "\n",
       "    .dataframe thead th {\n",
       "        text-align: right;\n",
       "    }\n",
       "</style>\n",
       "<table border=\"1\" class=\"dataframe\">\n",
       "  <thead>\n",
       "    <tr style=\"text-align: right;\">\n",
       "      <th></th>\n",
       "      <th>STATIONS_ID</th>\n",
       "      <th>MESS_DATUM</th>\n",
       "      <th>QN_9</th>\n",
       "      <th>TT_TU</th>\n",
       "      <th>RF_TU</th>\n",
       "      <th>eor</th>\n",
       "    </tr>\n",
       "  </thead>\n",
       "  <tbody>\n",
       "    <tr>\n",
       "      <th>0</th>\n",
       "      <td>5906</td>\n",
       "      <td>1948010101</td>\n",
       "      <td>5</td>\n",
       "      <td>-0.3</td>\n",
       "      <td>90.0</td>\n",
       "      <td>eor</td>\n",
       "    </tr>\n",
       "    <tr>\n",
       "      <th>1</th>\n",
       "      <td>5906</td>\n",
       "      <td>1948010102</td>\n",
       "      <td>5</td>\n",
       "      <td>-0.3</td>\n",
       "      <td>89.0</td>\n",
       "      <td>eor</td>\n",
       "    </tr>\n",
       "    <tr>\n",
       "      <th>2</th>\n",
       "      <td>5906</td>\n",
       "      <td>1948010103</td>\n",
       "      <td>5</td>\n",
       "      <td>0.1</td>\n",
       "      <td>89.0</td>\n",
       "      <td>eor</td>\n",
       "    </tr>\n",
       "    <tr>\n",
       "      <th>3</th>\n",
       "      <td>5906</td>\n",
       "      <td>1948010104</td>\n",
       "      <td>5</td>\n",
       "      <td>0.5</td>\n",
       "      <td>91.0</td>\n",
       "      <td>eor</td>\n",
       "    </tr>\n",
       "    <tr>\n",
       "      <th>4</th>\n",
       "      <td>5906</td>\n",
       "      <td>1948010105</td>\n",
       "      <td>5</td>\n",
       "      <td>0.8</td>\n",
       "      <td>87.0</td>\n",
       "      <td>eor</td>\n",
       "    </tr>\n",
       "    <tr>\n",
       "      <th>...</th>\n",
       "      <td>...</td>\n",
       "      <td>...</td>\n",
       "      <td>...</td>\n",
       "      <td>...</td>\n",
       "      <td>...</td>\n",
       "      <td>...</td>\n",
       "    </tr>\n",
       "    <tr>\n",
       "      <th>648607</th>\n",
       "      <td>5906</td>\n",
       "      <td>2021123119</td>\n",
       "      <td>3</td>\n",
       "      <td>10.2</td>\n",
       "      <td>91.0</td>\n",
       "      <td>eor</td>\n",
       "    </tr>\n",
       "    <tr>\n",
       "      <th>648608</th>\n",
       "      <td>5906</td>\n",
       "      <td>2021123120</td>\n",
       "      <td>3</td>\n",
       "      <td>10.9</td>\n",
       "      <td>88.0</td>\n",
       "      <td>eor</td>\n",
       "    </tr>\n",
       "    <tr>\n",
       "      <th>648609</th>\n",
       "      <td>5906</td>\n",
       "      <td>2021123121</td>\n",
       "      <td>3</td>\n",
       "      <td>11.0</td>\n",
       "      <td>88.0</td>\n",
       "      <td>eor</td>\n",
       "    </tr>\n",
       "    <tr>\n",
       "      <th>648610</th>\n",
       "      <td>5906</td>\n",
       "      <td>2021123122</td>\n",
       "      <td>3</td>\n",
       "      <td>11.1</td>\n",
       "      <td>88.0</td>\n",
       "      <td>eor</td>\n",
       "    </tr>\n",
       "    <tr>\n",
       "      <th>648611</th>\n",
       "      <td>5906</td>\n",
       "      <td>2021123123</td>\n",
       "      <td>3</td>\n",
       "      <td>11.5</td>\n",
       "      <td>86.0</td>\n",
       "      <td>eor</td>\n",
       "    </tr>\n",
       "  </tbody>\n",
       "</table>\n",
       "<p>648612 rows × 6 columns</p>\n",
       "</div>"
      ],
      "text/plain": [
       "        STATIONS_ID  MESS_DATUM  QN_9  TT_TU  RF_TU  eor\n",
       "0              5906  1948010101     5   -0.3   90.0  eor\n",
       "1              5906  1948010102     5   -0.3   89.0  eor\n",
       "2              5906  1948010103     5    0.1   89.0  eor\n",
       "3              5906  1948010104     5    0.5   91.0  eor\n",
       "4              5906  1948010105     5    0.8   87.0  eor\n",
       "...             ...         ...   ...    ...    ...  ...\n",
       "648607         5906  2021123119     3   10.2   91.0  eor\n",
       "648608         5906  2021123120     3   10.9   88.0  eor\n",
       "648609         5906  2021123121     3   11.0   88.0  eor\n",
       "648610         5906  2021123122     3   11.1   88.0  eor\n",
       "648611         5906  2021123123     3   11.5   86.0  eor\n",
       "\n",
       "[648612 rows x 6 columns]"
      ]
     },
     "execution_count": 55,
     "metadata": {},
     "output_type": "execute_result"
    }
   ],
   "source": [
    "#import data\n",
    "\n",
    "df = pd.read_csv(\"data\\produkt_tu_stunde_19480101_20211231_05906.txt\", delimiter=';')\n",
    "df"
   ]
  },
  {
   "cell_type": "markdown",
   "metadata": {},
   "source": [
    "Clean & harmonize data set"
   ]
  },
  {
   "cell_type": "code",
   "execution_count": 56,
   "metadata": {},
   "outputs": [
    {
     "data": {
      "text/html": [
       "<div>\n",
       "<style scoped>\n",
       "    .dataframe tbody tr th:only-of-type {\n",
       "        vertical-align: middle;\n",
       "    }\n",
       "\n",
       "    .dataframe tbody tr th {\n",
       "        vertical-align: top;\n",
       "    }\n",
       "\n",
       "    .dataframe thead th {\n",
       "        text-align: right;\n",
       "    }\n",
       "</style>\n",
       "<table border=\"1\" class=\"dataframe\">\n",
       "  <thead>\n",
       "    <tr style=\"text-align: right;\">\n",
       "      <th></th>\n",
       "      <th>MESS_DATUM</th>\n",
       "      <th>TT_TU</th>\n",
       "      <th>RF_TU</th>\n",
       "    </tr>\n",
       "  </thead>\n",
       "  <tbody>\n",
       "    <tr>\n",
       "      <th>0</th>\n",
       "      <td>1948010101</td>\n",
       "      <td>-0.3</td>\n",
       "      <td>90.0</td>\n",
       "    </tr>\n",
       "    <tr>\n",
       "      <th>1</th>\n",
       "      <td>1948010102</td>\n",
       "      <td>-0.3</td>\n",
       "      <td>89.0</td>\n",
       "    </tr>\n",
       "  </tbody>\n",
       "</table>\n",
       "</div>"
      ],
      "text/plain": [
       "   MESS_DATUM  TT_TU  RF_TU\n",
       "0  1948010101   -0.3   90.0\n",
       "1  1948010102   -0.3   89.0"
      ]
     },
     "execution_count": 56,
     "metadata": {},
     "output_type": "execute_result"
    }
   ],
   "source": [
    "#remove unneeded data\n",
    "\n",
    "df=df.drop(columns=['STATIONS_ID', 'QN_9', 'eor'])\n",
    "df.head(2)"
   ]
  },
  {
   "cell_type": "code",
   "execution_count": 57,
   "metadata": {},
   "outputs": [],
   "source": [
    "#rename MESS_DATUM in Date\n",
    "\n",
    "df = df.rename(columns={\"MESS_DATUM\": \"Date\"})"
   ]
  },
  {
   "cell_type": "code",
   "execution_count": 58,
   "metadata": {},
   "outputs": [
    {
     "data": {
      "text/html": [
       "<div>\n",
       "<style scoped>\n",
       "    .dataframe tbody tr th:only-of-type {\n",
       "        vertical-align: middle;\n",
       "    }\n",
       "\n",
       "    .dataframe tbody tr th {\n",
       "        vertical-align: top;\n",
       "    }\n",
       "\n",
       "    .dataframe thead th {\n",
       "        text-align: right;\n",
       "    }\n",
       "</style>\n",
       "<table border=\"1\" class=\"dataframe\">\n",
       "  <thead>\n",
       "    <tr style=\"text-align: right;\">\n",
       "      <th></th>\n",
       "      <th>Date</th>\n",
       "      <th>TT_TU</th>\n",
       "      <th>RF_TU</th>\n",
       "    </tr>\n",
       "  </thead>\n",
       "  <tbody>\n",
       "    <tr>\n",
       "      <th>0</th>\n",
       "      <td>1948-01-01 01:00:00</td>\n",
       "      <td>-0.3</td>\n",
       "      <td>90.0</td>\n",
       "    </tr>\n",
       "    <tr>\n",
       "      <th>1</th>\n",
       "      <td>1948-01-01 02:00:00</td>\n",
       "      <td>-0.3</td>\n",
       "      <td>89.0</td>\n",
       "    </tr>\n",
       "  </tbody>\n",
       "</table>\n",
       "</div>"
      ],
      "text/plain": [
       "                 Date  TT_TU  RF_TU\n",
       "0 1948-01-01 01:00:00   -0.3   90.0\n",
       "1 1948-01-01 02:00:00   -0.3   89.0"
      ]
     },
     "execution_count": 58,
     "metadata": {},
     "output_type": "execute_result"
    }
   ],
   "source": [
    "#convert int to date\n",
    "\n",
    "df['Date'] = pd.to_datetime(df['Date'], format='%Y%m%d%H')\n",
    "df.head(2)"
   ]
  },
  {
   "cell_type": "code",
   "execution_count": 59,
   "metadata": {},
   "outputs": [
    {
     "data": {
      "text/html": [
       "<div>\n",
       "<style scoped>\n",
       "    .dataframe tbody tr th:only-of-type {\n",
       "        vertical-align: middle;\n",
       "    }\n",
       "\n",
       "    .dataframe tbody tr th {\n",
       "        vertical-align: top;\n",
       "    }\n",
       "\n",
       "    .dataframe thead th {\n",
       "        text-align: right;\n",
       "    }\n",
       "</style>\n",
       "<table border=\"1\" class=\"dataframe\">\n",
       "  <thead>\n",
       "    <tr style=\"text-align: right;\">\n",
       "      <th></th>\n",
       "      <th>Date</th>\n",
       "      <th>TT_TU</th>\n",
       "      <th>RF_TU</th>\n",
       "    </tr>\n",
       "  </thead>\n",
       "  <tbody>\n",
       "    <tr>\n",
       "      <th>455831</th>\n",
       "      <td>2000-01-01 00:00:00</td>\n",
       "      <td>2.4</td>\n",
       "      <td>91.0</td>\n",
       "    </tr>\n",
       "    <tr>\n",
       "      <th>455832</th>\n",
       "      <td>2000-01-01 01:00:00</td>\n",
       "      <td>2.4</td>\n",
       "      <td>91.0</td>\n",
       "    </tr>\n",
       "    <tr>\n",
       "      <th>455833</th>\n",
       "      <td>2000-01-01 02:00:00</td>\n",
       "      <td>2.5</td>\n",
       "      <td>91.0</td>\n",
       "    </tr>\n",
       "    <tr>\n",
       "      <th>455834</th>\n",
       "      <td>2000-01-01 03:00:00</td>\n",
       "      <td>2.6</td>\n",
       "      <td>91.0</td>\n",
       "    </tr>\n",
       "    <tr>\n",
       "      <th>455835</th>\n",
       "      <td>2000-01-01 04:00:00</td>\n",
       "      <td>2.8</td>\n",
       "      <td>91.0</td>\n",
       "    </tr>\n",
       "    <tr>\n",
       "      <th>...</th>\n",
       "      <td>...</td>\n",
       "      <td>...</td>\n",
       "      <td>...</td>\n",
       "    </tr>\n",
       "    <tr>\n",
       "      <th>648607</th>\n",
       "      <td>2021-12-31 19:00:00</td>\n",
       "      <td>10.2</td>\n",
       "      <td>91.0</td>\n",
       "    </tr>\n",
       "    <tr>\n",
       "      <th>648608</th>\n",
       "      <td>2021-12-31 20:00:00</td>\n",
       "      <td>10.9</td>\n",
       "      <td>88.0</td>\n",
       "    </tr>\n",
       "    <tr>\n",
       "      <th>648609</th>\n",
       "      <td>2021-12-31 21:00:00</td>\n",
       "      <td>11.0</td>\n",
       "      <td>88.0</td>\n",
       "    </tr>\n",
       "    <tr>\n",
       "      <th>648610</th>\n",
       "      <td>2021-12-31 22:00:00</td>\n",
       "      <td>11.1</td>\n",
       "      <td>88.0</td>\n",
       "    </tr>\n",
       "    <tr>\n",
       "      <th>648611</th>\n",
       "      <td>2021-12-31 23:00:00</td>\n",
       "      <td>11.5</td>\n",
       "      <td>86.0</td>\n",
       "    </tr>\n",
       "  </tbody>\n",
       "</table>\n",
       "<p>192781 rows × 3 columns</p>\n",
       "</div>"
      ],
      "text/plain": [
       "                      Date  TT_TU  RF_TU\n",
       "455831 2000-01-01 00:00:00    2.4   91.0\n",
       "455832 2000-01-01 01:00:00    2.4   91.0\n",
       "455833 2000-01-01 02:00:00    2.5   91.0\n",
       "455834 2000-01-01 03:00:00    2.6   91.0\n",
       "455835 2000-01-01 04:00:00    2.8   91.0\n",
       "...                    ...    ...    ...\n",
       "648607 2021-12-31 19:00:00   10.2   91.0\n",
       "648608 2021-12-31 20:00:00   10.9   88.0\n",
       "648609 2021-12-31 21:00:00   11.0   88.0\n",
       "648610 2021-12-31 22:00:00   11.1   88.0\n",
       "648611 2021-12-31 23:00:00   11.5   86.0\n",
       "\n",
       "[192781 rows x 3 columns]"
      ]
     },
     "execution_count": 59,
     "metadata": {},
     "output_type": "execute_result"
    }
   ],
   "source": [
    "#only last 21 years\n",
    "\n",
    "df=df[df['Date'].dt.year >= 2000]\n",
    "df"
   ]
  },
  {
   "cell_type": "code",
   "execution_count": 60,
   "metadata": {},
   "outputs": [],
   "source": [
    "#remove leap years from dataset\n",
    "\n",
    "df = df[~((df.Date.dt.month == 2) & (df.Date.dt.day == 29)) ]"
   ]
  },
  {
   "cell_type": "code",
   "execution_count": 61,
   "metadata": {},
   "outputs": [
    {
     "data": {
      "text/plain": [
       "Date     2000-01-01 00:00:00\n",
       "TT_TU                  -17.9\n",
       "RF_TU                     11\n",
       "dtype: object"
      ]
     },
     "execution_count": 61,
     "metadata": {},
     "output_type": "execute_result"
    }
   ],
   "source": [
    "#remove -999 values form dataset\n",
    "\n",
    "df = df[~(df.TT_TU == -999)]\n",
    "df = df[~(df.RF_TU == -999)]\n",
    "df.min()"
   ]
  },
  {
   "cell_type": "markdown",
   "metadata": {},
   "source": [
    "Data set label & split"
   ]
  },
  {
   "cell_type": "code",
   "execution_count": 62,
   "metadata": {},
   "outputs": [],
   "source": [
    "#create labeled data set for predictions in one year\n",
    "\n",
    "prediction_hours = (365*24)\n",
    "df[\"Prediction_TT\"]=df[\"TT_TU\"].shift(-prediction_hours)\n",
    "df[\"Prediction_RF\"]=df[\"RF_TU\"].shift(-prediction_hours)"
   ]
  },
  {
   "cell_type": "code",
   "execution_count": 63,
   "metadata": {},
   "outputs": [],
   "source": [
    "#aufteilen der Daten in x und y Werte\n",
    "\n",
    "X = np.array(df[[\"TT_TU\"]])\n",
    "X = X[: len(df)-prediction_hours]"
   ]
  },
  {
   "cell_type": "code",
   "execution_count": 64,
   "metadata": {},
   "outputs": [],
   "source": [
    "#Ertsellen der y Werte\n",
    "\n",
    "y = np.array(df[\"Prediction_TT\"])\n",
    "y = y[:-prediction_hours]"
   ]
  },
  {
   "cell_type": "code",
   "execution_count": 65,
   "metadata": {},
   "outputs": [],
   "source": [
    "#aufteilen der Daten in Trainings und Test Daten\n",
    "\n",
    "X_train, X_test, y_train, y_test = train_test_split(X,y, test_size = 0.2)"
   ]
  },
  {
   "cell_type": "code",
   "execution_count": 66,
   "metadata": {},
   "outputs": [],
   "source": [
    "#erstellen einer varaible mit letzten 365*24 Werten aus dem df\n",
    "\n",
    "prediction_hours_array = np.array(df[['TT_TU']])[-prediction_hours:]"
   ]
  },
  {
   "cell_type": "markdown",
   "metadata": {},
   "source": [
    "Support Vector Regression"
   ]
  },
  {
   "cell_type": "code",
   "execution_count": 71,
   "metadata": {},
   "outputs": [
    {
     "data": {
      "text/plain": [
       "SVR(C=1000.0, gamma=0.0001)"
      ]
     },
     "execution_count": 71,
     "metadata": {},
     "output_type": "execute_result"
    }
   ],
   "source": [
    "#from sklearn.svm import SVR\n",
    "\n",
    "#Support Vector Regression mit radial basis function\n",
    "\n",
    "svr_rbf = SVR(kernel=\"rbf\", C=1e3, gamma=0.0001)\n",
    "svr_rbf.fit(X_train, y_train)"
   ]
  },
  {
   "cell_type": "code",
   "execution_count": 72,
   "metadata": {},
   "outputs": [
    {
     "name": "stdout",
     "output_type": "stream",
     "text": [
      "Model Score:  0.5520706659766415\n"
     ]
    }
   ],
   "source": [
    "#Testen des Models\n",
    "\n",
    "model_test = svr_rbf.score(X_test, y_test)\n",
    "print(\"Model Score: \", model_test)"
   ]
  },
  {
   "cell_type": "code",
   "execution_count": 69,
   "metadata": {},
   "outputs": [],
   "source": [
    "#Ausgaben der vorhergesagten Test Werte\n",
    "#svm_prediction = svr_rbf.predicti(X_test)\n",
    "#print(svm_prediction)\n",
    "\n",
    "#print()\n",
    "\n",
    "#Ausgeben der tatsächlen Werte\n",
    "#print(y_test)"
   ]
  },
  {
   "cell_type": "code",
   "execution_count": 73,
   "metadata": {},
   "outputs": [
    {
     "name": "stdout",
     "output_type": "stream",
     "text": [
      "[ 4.43568719  4.68307058  4.94003049 ... 10.83377024 10.92413781\n",
      " 11.28649748]\n",
      "\n",
      "639800     2.9\n",
      "639801     3.3\n",
      "639802     3.7\n",
      "639803     3.7\n",
      "639804     3.0\n",
      "          ... \n",
      "648607    10.2\n",
      "648608    10.9\n",
      "648609    11.0\n",
      "648610    11.1\n",
      "648611    11.5\n",
      "Name: TT_TU, Length: 8760, dtype: float64\n"
     ]
    }
   ],
   "source": [
    "svm_prediction = svr_rbf.predict(prediction_hours_array)\n",
    "print(svm_prediction)\n",
    "\n",
    "print()\n",
    "\n",
    "\n",
    "print(df[\"TT_TU\"].tail(prediction_hours))"
   ]
  }
 ],
 "metadata": {
  "interpreter": {
   "hash": "ad2bdc8ecc057115af97d19610ffacc2b4e99fae6737bb82f5d7fb13d2f2c186"
  },
  "kernelspec": {
   "display_name": "Python 3.8.3 ('base')",
   "language": "python",
   "name": "python3"
  },
  "language_info": {
   "codemirror_mode": {
    "name": "ipython",
    "version": 3
   },
   "file_extension": ".py",
   "mimetype": "text/x-python",
   "name": "python",
   "nbconvert_exporter": "python",
   "pygments_lexer": "ipython3",
   "version": "3.8.3"
  },
  "orig_nbformat": 4,
  "vscode": {
   "interpreter": {
    "hash": "07bdc3776e971382aa5f670579af6006f098006e7d4a5bb7c27946475470bfdc"
   }
  }
 },
 "nbformat": 4,
 "nbformat_minor": 2
}
