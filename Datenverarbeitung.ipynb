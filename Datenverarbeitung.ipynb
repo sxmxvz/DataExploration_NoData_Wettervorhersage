{
 "cells": [
  {
   "cell_type": "code",
   "execution_count": 65,
   "metadata": {},
   "outputs": [],
   "source": [
    "import pandas as pd;\n",
    "import numpy as np;\n",
    "import matplotlib.pyplot as plt \n",
    "import scipy \n",
    "\n"
   ]
  },
  {
   "cell_type": "code",
   "execution_count": 66,
   "metadata": {},
   "outputs": [
    {
     "name": "stdout",
     "output_type": "stream",
     "text": [
      "['STATIONS_ID', 'MESS_DATUM', 'QN_9', 'TT_TU', 'RF_TU', 'eor']\n"
     ]
    },
    {
     "data": {
      "text/plain": [
       "pandas.core.frame.DataFrame"
      ]
     },
     "execution_count": 66,
     "metadata": {},
     "output_type": "execute_result"
    }
   ],
   "source": [
    "data = pd.read_csv(\"produkt_tu_stunde_19480101_20211231_05906.txt\", delimiter=',')\n",
    "print(list(data))\n",
    "type(data)"
   ]
  },
  {
   "cell_type": "code",
   "execution_count": 67,
   "metadata": {},
   "outputs": [
    {
     "data": {
      "text/html": [
       "<div>\n",
       "<style scoped>\n",
       "    .dataframe tbody tr th:only-of-type {\n",
       "        vertical-align: middle;\n",
       "    }\n",
       "\n",
       "    .dataframe tbody tr th {\n",
       "        vertical-align: top;\n",
       "    }\n",
       "\n",
       "    .dataframe thead th {\n",
       "        text-align: right;\n",
       "    }\n",
       "</style>\n",
       "<table border=\"1\" class=\"dataframe\">\n",
       "  <thead>\n",
       "    <tr style=\"text-align: right;\">\n",
       "      <th></th>\n",
       "      <th>STATIONS_ID</th>\n",
       "      <th>MESS_DATUM</th>\n",
       "      <th>data_quality</th>\n",
       "      <th>temperature_C°</th>\n",
       "      <th>humidity_mbar</th>\n",
       "      <th>eor</th>\n",
       "    </tr>\n",
       "  </thead>\n",
       "  <tbody>\n",
       "    <tr>\n",
       "      <th>0</th>\n",
       "      <td>5906</td>\n",
       "      <td>1948010101</td>\n",
       "      <td>5</td>\n",
       "      <td>-0.3</td>\n",
       "      <td>90.0</td>\n",
       "      <td>eor</td>\n",
       "    </tr>\n",
       "    <tr>\n",
       "      <th>1</th>\n",
       "      <td>5906</td>\n",
       "      <td>1948010102</td>\n",
       "      <td>5</td>\n",
       "      <td>-0.3</td>\n",
       "      <td>89.0</td>\n",
       "      <td>eor</td>\n",
       "    </tr>\n",
       "    <tr>\n",
       "      <th>2</th>\n",
       "      <td>5906</td>\n",
       "      <td>1948010103</td>\n",
       "      <td>5</td>\n",
       "      <td>0.1</td>\n",
       "      <td>89.0</td>\n",
       "      <td>eor</td>\n",
       "    </tr>\n",
       "    <tr>\n",
       "      <th>3</th>\n",
       "      <td>5906</td>\n",
       "      <td>1948010104</td>\n",
       "      <td>5</td>\n",
       "      <td>0.5</td>\n",
       "      <td>91.0</td>\n",
       "      <td>eor</td>\n",
       "    </tr>\n",
       "    <tr>\n",
       "      <th>4</th>\n",
       "      <td>5906</td>\n",
       "      <td>1948010105</td>\n",
       "      <td>5</td>\n",
       "      <td>0.8</td>\n",
       "      <td>87.0</td>\n",
       "      <td>eor</td>\n",
       "    </tr>\n",
       "  </tbody>\n",
       "</table>\n",
       "</div>"
      ],
      "text/plain": [
       "   STATIONS_ID  MESS_DATUM  data_quality  temperature_C°  humidity_mbar  eor\n",
       "0         5906  1948010101             5            -0.3           90.0  eor\n",
       "1         5906  1948010102             5            -0.3           89.0  eor\n",
       "2         5906  1948010103             5             0.1           89.0  eor\n",
       "3         5906  1948010104             5             0.5           91.0  eor\n",
       "4         5906  1948010105             5             0.8           87.0  eor"
      ]
     },
     "execution_count": 67,
     "metadata": {},
     "output_type": "execute_result"
    }
   ],
   "source": [
    "data.rename(columns={'QN_9': 'data_quality', 'TT_TU': 'temperature_C°', 'RF_TU': 'humidity_mbar'}, inplace=True)\n",
    "list(data)\n",
    "data.head()"
   ]
  },
  {
   "cell_type": "code",
   "execution_count": 68,
   "metadata": {},
   "outputs": [
    {
     "data": {
      "text/html": [
       "<div>\n",
       "<style scoped>\n",
       "    .dataframe tbody tr th:only-of-type {\n",
       "        vertical-align: middle;\n",
       "    }\n",
       "\n",
       "    .dataframe tbody tr th {\n",
       "        vertical-align: top;\n",
       "    }\n",
       "\n",
       "    .dataframe thead th {\n",
       "        text-align: right;\n",
       "    }\n",
       "</style>\n",
       "<table border=\"1\" class=\"dataframe\">\n",
       "  <thead>\n",
       "    <tr style=\"text-align: right;\">\n",
       "      <th></th>\n",
       "      <th>MESS_DATUM</th>\n",
       "      <th>data_quality</th>\n",
       "      <th>temperature_C°</th>\n",
       "      <th>humidity_mbar</th>\n",
       "    </tr>\n",
       "  </thead>\n",
       "  <tbody>\n",
       "    <tr>\n",
       "      <th>0</th>\n",
       "      <td>1948010101</td>\n",
       "      <td>5</td>\n",
       "      <td>-0.3</td>\n",
       "      <td>90.0</td>\n",
       "    </tr>\n",
       "    <tr>\n",
       "      <th>1</th>\n",
       "      <td>1948010102</td>\n",
       "      <td>5</td>\n",
       "      <td>-0.3</td>\n",
       "      <td>89.0</td>\n",
       "    </tr>\n",
       "    <tr>\n",
       "      <th>2</th>\n",
       "      <td>1948010103</td>\n",
       "      <td>5</td>\n",
       "      <td>0.1</td>\n",
       "      <td>89.0</td>\n",
       "    </tr>\n",
       "    <tr>\n",
       "      <th>3</th>\n",
       "      <td>1948010104</td>\n",
       "      <td>5</td>\n",
       "      <td>0.5</td>\n",
       "      <td>91.0</td>\n",
       "    </tr>\n",
       "    <tr>\n",
       "      <th>4</th>\n",
       "      <td>1948010105</td>\n",
       "      <td>5</td>\n",
       "      <td>0.8</td>\n",
       "      <td>87.0</td>\n",
       "    </tr>\n",
       "    <tr>\n",
       "      <th>...</th>\n",
       "      <td>...</td>\n",
       "      <td>...</td>\n",
       "      <td>...</td>\n",
       "      <td>...</td>\n",
       "    </tr>\n",
       "    <tr>\n",
       "      <th>648607</th>\n",
       "      <td>2021123119</td>\n",
       "      <td>3</td>\n",
       "      <td>10.2</td>\n",
       "      <td>91.0</td>\n",
       "    </tr>\n",
       "    <tr>\n",
       "      <th>648608</th>\n",
       "      <td>2021123120</td>\n",
       "      <td>3</td>\n",
       "      <td>10.9</td>\n",
       "      <td>88.0</td>\n",
       "    </tr>\n",
       "    <tr>\n",
       "      <th>648609</th>\n",
       "      <td>2021123121</td>\n",
       "      <td>3</td>\n",
       "      <td>11.0</td>\n",
       "      <td>88.0</td>\n",
       "    </tr>\n",
       "    <tr>\n",
       "      <th>648610</th>\n",
       "      <td>2021123122</td>\n",
       "      <td>3</td>\n",
       "      <td>11.1</td>\n",
       "      <td>88.0</td>\n",
       "    </tr>\n",
       "    <tr>\n",
       "      <th>648611</th>\n",
       "      <td>2021123123</td>\n",
       "      <td>3</td>\n",
       "      <td>11.5</td>\n",
       "      <td>86.0</td>\n",
       "    </tr>\n",
       "  </tbody>\n",
       "</table>\n",
       "<p>648612 rows × 4 columns</p>\n",
       "</div>"
      ],
      "text/plain": [
       "        MESS_DATUM  data_quality  temperature_C°  humidity_mbar\n",
       "0       1948010101             5            -0.3           90.0\n",
       "1       1948010102             5            -0.3           89.0\n",
       "2       1948010103             5             0.1           89.0\n",
       "3       1948010104             5             0.5           91.0\n",
       "4       1948010105             5             0.8           87.0\n",
       "...            ...           ...             ...            ...\n",
       "648607  2021123119             3            10.2           91.0\n",
       "648608  2021123120             3            10.9           88.0\n",
       "648609  2021123121             3            11.0           88.0\n",
       "648610  2021123122             3            11.1           88.0\n",
       "648611  2021123123             3            11.5           86.0\n",
       "\n",
       "[648612 rows x 4 columns]"
      ]
     },
     "execution_count": 68,
     "metadata": {},
     "output_type": "execute_result"
    }
   ],
   "source": [
    "data.drop(['STATIONS_ID', 'eor'],axis=1)"
   ]
  },
  {
   "cell_type": "code",
   "execution_count": 79,
   "metadata": {},
   "outputs": [
    {
     "data": {
      "text/plain": [
       "Text(0.5, 1.0, 'Overview of temperature over the last days')"
      ]
     },
     "execution_count": 79,
     "metadata": {},
     "output_type": "execute_result"
    },
    {
     "data": {
      "image/png": "[encoded data removed]",
      "text/plain": [
       "<Figure size 1008x288 with 1 Axes>"
      ]
     },
     "metadata": {
      "needs_background": "light"
     },
     "output_type": "display_data"
    }
   ],
   "source": [
    "x = data['MESS_DATUM']\n",
    "y = data['temperature_C°']\n",
    "\n",
    "fig = plt.figure(figsize=(14,4))\n",
    "\n",
    "#plt.xlim = ([2021123119,2021123123])\n",
    "plt.set_ylim= ([-50,50])\n",
    "\n",
    "plt.plot(x,y)\n",
    "plt.title('Overview of temperature over the last days', )\n"
   ]
  },
  {
   "cell_type": "code",
   "execution_count": null,
   "metadata": {},
   "outputs": [],
   "source": []
  }
 ],
 "metadata": {
  "kernelspec": {
   "display_name": "Python 3.6.8 64-bit",
   "language": "python",
   "name": "python3"
  },
  "language_info": {
   "codemirror_mode": {
    "name": "ipython",
    "version": 3
   },
   "file_extension": ".py",
   "mimetype": "text/x-python",
   "name": "python",
   "nbconvert_exporter": "python",
   "pygments_lexer": "ipython3",
   "version": "3.6.8"
  },
  "orig_nbformat": 4,
  "vscode": {
   "interpreter": {
    "hash": "07bdc3776e971382aa5f670579af6006f098006e7d4a5bb7c27946475470bfdc"
   }
  }
 },
 "nbformat": 4,
 "nbformat_minor": 2
}
